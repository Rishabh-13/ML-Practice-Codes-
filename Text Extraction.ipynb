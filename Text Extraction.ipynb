{
 "cells": [
  {
   "cell_type": "code",
   "execution_count": 89,
   "id": "02b03b4c",
   "metadata": {},
   "outputs": [],
   "source": [
    "from sklearn.feature_extraction.text import CountVectorizer\n",
    "\n",
    "import pandas as pd\n",
    "\n",
    "#to avoid future warning\n",
    "#import warnings\n",
    "#warnings.simplefilter(action='ignore', category=FutureWarning)"
   ]
  },
  {
   "cell_type": "code",
   "execution_count": 90,
   "id": "ad5e7f42",
   "metadata": {},
   "outputs": [],
   "source": [
    "vect = CountVectorizer()"
   ]
  },
  {
   "cell_type": "code",
   "execution_count": 91,
   "id": "c34ae5c9",
   "metadata": {},
   "outputs": [],
   "source": [
    "messages = [\"Hey hey hey lets go get lunch today..!\",\n",
    "            \"Did you go home?..\",\n",
    "            \"Hey!!! I need a favor\"]"
   ]
  },
  {
   "cell_type": "markdown",
   "id": "b4f827aa",
   "metadata": {},
   "source": [
    "using fit method ,CountVectorizer() will learn what tokens are being used in our messages"
   ]
  },
  {
   "cell_type": "code",
   "execution_count": 92,
   "id": "e925a327",
   "metadata": {},
   "outputs": [
    {
     "data": {
      "text/plain": [
       "CountVectorizer()"
      ]
     },
     "execution_count": 92,
     "metadata": {},
     "output_type": "execute_result"
    }
   ],
   "source": [
    "vect.fit(messages)"
   ]
  },
  {
   "cell_type": "code",
   "execution_count": 93,
   "id": "21c2b1dc",
   "metadata": {},
   "outputs": [
    {
     "data": {
      "text/plain": [
       "['did',\n",
       " 'favor',\n",
       " 'get',\n",
       " 'go',\n",
       " 'hey',\n",
       " 'home',\n",
       " 'lets',\n",
       " 'lunch',\n",
       " 'need',\n",
       " 'today',\n",
       " 'you']"
      ]
     },
     "execution_count": 93,
     "metadata": {},
     "output_type": "execute_result"
    }
   ],
   "source": [
    "vect.get_feature_names()"
   ]
  },
  {
   "cell_type": "code",
   "execution_count": null,
   "id": "551b8b2e",
   "metadata": {},
   "outputs": [],
   "source": []
  },
  {
   "cell_type": "code",
   "execution_count": 94,
   "id": "d533ceb7",
   "metadata": {},
   "outputs": [],
   "source": [
    "x_new = vect.fit_transform(messages).toarray()"
   ]
  },
  {
   "cell_type": "code",
   "execution_count": 95,
   "id": "c105dcd7",
   "metadata": {},
   "outputs": [
    {
     "data": {
      "text/plain": [
       "array([[0, 0, 1, 1, 3, 0, 1, 1, 0, 1, 0],\n",
       "       [1, 0, 0, 1, 0, 1, 0, 0, 0, 0, 1],\n",
       "       [0, 1, 0, 0, 1, 0, 0, 0, 1, 0, 0]], dtype=int64)"
      ]
     },
     "execution_count": 95,
     "metadata": {},
     "output_type": "execute_result"
    }
   ],
   "source": [
    "x_new"
   ]
  },
  {
   "cell_type": "code",
   "execution_count": 96,
   "id": "9f7af0ac",
   "metadata": {},
   "outputs": [],
   "source": [
    "#x_new = vect.fit_transform(messages).toarray()"
   ]
  },
  {
   "cell_type": "code",
   "execution_count": 97,
   "id": "83ee68e0",
   "metadata": {},
   "outputs": [
    {
     "data": {
      "text/plain": [
       "['did',\n",
       " 'favor',\n",
       " 'get',\n",
       " 'go',\n",
       " 'hey',\n",
       " 'home',\n",
       " 'lets',\n",
       " 'lunch',\n",
       " 'need',\n",
       " 'today',\n",
       " 'you']"
      ]
     },
     "execution_count": 97,
     "metadata": {},
     "output_type": "execute_result"
    }
   ],
   "source": [
    "vect.get_feature_names()"
   ]
  },
  {
   "cell_type": "markdown",
   "id": "082b0ec4",
   "metadata": {},
   "source": [
    "- By using the get_feature_name() method ,we can see what features\n",
    "  have been created from our messages.(or what tokens have been learned by CountVectorizer)"
   ]
  },
  {
   "cell_type": "code",
   "execution_count": 98,
   "id": "e4cab797",
   "metadata": {},
   "outputs": [
    {
     "name": "stdout",
     "output_type": "stream",
     "text": [
      "   did  favor  get  go  hey  home  lets  lunch  need  today  you\n",
      "0    0      0    1   1    3     0     1      1     0      1    0\n",
      "1    1      0    0   1    0     1     0      0     0      0    1\n",
      "2    0      1    0   0    1     0     0      0     1      0    0\n"
     ]
    }
   ],
   "source": [
    "df = pd.DataFrame(x_new,columns = vect.get_feature_names())\n",
    "print (df)"
   ]
  },
  {
   "cell_type": "markdown",
   "id": "3f32b768",
   "metadata": {},
   "source": [
    "### Let's read text data from  a file and try to convert it into numeric form"
   ]
  },
  {
   "cell_type": "code",
   "execution_count": 99,
   "id": "2df696a4",
   "metadata": {},
   "outputs": [],
   "source": [
    "df = pd.read_csv('Restaurant_Reviews.tsv',sep='\\t')"
   ]
  },
  {
   "cell_type": "code",
   "execution_count": 100,
   "id": "e0061f89",
   "metadata": {},
   "outputs": [
    {
     "data": {
      "text/html": [
       "<div>\n",
       "<style scoped>\n",
       "    .dataframe tbody tr th:only-of-type {\n",
       "        vertical-align: middle;\n",
       "    }\n",
       "\n",
       "    .dataframe tbody tr th {\n",
       "        vertical-align: top;\n",
       "    }\n",
       "\n",
       "    .dataframe thead th {\n",
       "        text-align: right;\n",
       "    }\n",
       "</style>\n",
       "<table border=\"1\" class=\"dataframe\">\n",
       "  <thead>\n",
       "    <tr style=\"text-align: right;\">\n",
       "      <th></th>\n",
       "      <th>Review</th>\n",
       "      <th>Liked</th>\n",
       "    </tr>\n",
       "  </thead>\n",
       "  <tbody>\n",
       "    <tr>\n",
       "      <th>0</th>\n",
       "      <td>Wow... Loved this place.</td>\n",
       "      <td>1</td>\n",
       "    </tr>\n",
       "    <tr>\n",
       "      <th>1</th>\n",
       "      <td>Crust is not good.</td>\n",
       "      <td>0</td>\n",
       "    </tr>\n",
       "    <tr>\n",
       "      <th>2</th>\n",
       "      <td>Not tasty and the texture was just nasty.</td>\n",
       "      <td>0</td>\n",
       "    </tr>\n",
       "    <tr>\n",
       "      <th>3</th>\n",
       "      <td>Stopped by during the late May bank holiday of...</td>\n",
       "      <td>1</td>\n",
       "    </tr>\n",
       "    <tr>\n",
       "      <th>4</th>\n",
       "      <td>The selection on the menu was great and so wer...</td>\n",
       "      <td>1</td>\n",
       "    </tr>\n",
       "  </tbody>\n",
       "</table>\n",
       "</div>"
      ],
      "text/plain": [
       "                                              Review  Liked\n",
       "0                           Wow... Loved this place.      1\n",
       "1                                 Crust is not good.      0\n",
       "2          Not tasty and the texture was just nasty.      0\n",
       "3  Stopped by during the late May bank holiday of...      1\n",
       "4  The selection on the menu was great and so wer...      1"
      ]
     },
     "execution_count": 100,
     "metadata": {},
     "output_type": "execute_result"
    }
   ],
   "source": [
    "df.head()"
   ]
  },
  {
   "cell_type": "code",
   "execution_count": 101,
   "id": "0d85ac65",
   "metadata": {},
   "outputs": [
    {
     "data": {
      "text/plain": [
       "(1000, 2)"
      ]
     },
     "execution_count": 101,
     "metadata": {},
     "output_type": "execute_result"
    }
   ],
   "source": [
    "df.shape"
   ]
  },
  {
   "cell_type": "code",
   "execution_count": 102,
   "id": "bc43d87e",
   "metadata": {},
   "outputs": [
    {
     "data": {
      "text/plain": [
       "1    500\n",
       "0    500\n",
       "Name: Liked, dtype: int64"
      ]
     },
     "execution_count": 102,
     "metadata": {},
     "output_type": "execute_result"
    }
   ],
   "source": [
    "df.Liked.value_counts()  #to display no. of samples for each unique value"
   ]
  },
  {
   "cell_type": "code",
   "execution_count": 103,
   "id": "05f77be1",
   "metadata": {},
   "outputs": [],
   "source": [
    "import re"
   ]
  },
  {
   "cell_type": "code",
   "execution_count": 104,
   "id": "371544fa",
   "metadata": {},
   "outputs": [],
   "source": [
    "def clean(x):\n",
    "    \n",
    "    #remove all html tags from data\n",
    "    #remove all numbers from data\n",
    "    #remove all special chars from data\n",
    "    #remove stop words\n",
    "    #stemming\n",
    "    #lemmitization\n",
    "    #etc..\n",
    "    s = re.sub('<.*?>',' ',x) #remove html tags\n",
    "    \n",
    "    s = re.sub('[^A-Za-z]',' ',s)  \n",
    "    #to replace everything except A-Z or a-z with ' '(single space)\n",
    "    \n",
    "    s = re.sub('\\s+',' ',s)       \n",
    "    #to replace more than one space's with single space only\n",
    "    \n",
    "    s = s.strip()    \n",
    "    #remove spaces from either from beginning or end of string\n",
    "    \n",
    "    return s.lower()    #return string in lower case\n",
    "    \n",
    "    "
   ]
  },
  {
   "cell_type": "code",
   "execution_count": 105,
   "id": "16ad850e",
   "metadata": {},
   "outputs": [
    {
     "data": {
      "text/plain": [
       "'hello python hi ok'"
      ]
     },
     "execution_count": 105,
     "metadata": {},
     "output_type": "execute_result"
    }
   ],
   "source": [
    "clean('hello python 123hi #@ <html>ok</html>')"
   ]
  },
  {
   "cell_type": "code",
   "execution_count": 106,
   "id": "5a6b6d8d",
   "metadata": {},
   "outputs": [],
   "source": [
    "df['Review'] = df.Review.apply(clean)"
   ]
  },
  {
   "cell_type": "code",
   "execution_count": 107,
   "id": "8799b7c5",
   "metadata": {},
   "outputs": [
    {
     "data": {
      "text/html": [
       "<div>\n",
       "<style scoped>\n",
       "    .dataframe tbody tr th:only-of-type {\n",
       "        vertical-align: middle;\n",
       "    }\n",
       "\n",
       "    .dataframe tbody tr th {\n",
       "        vertical-align: top;\n",
       "    }\n",
       "\n",
       "    .dataframe thead th {\n",
       "        text-align: right;\n",
       "    }\n",
       "</style>\n",
       "<table border=\"1\" class=\"dataframe\">\n",
       "  <thead>\n",
       "    <tr style=\"text-align: right;\">\n",
       "      <th></th>\n",
       "      <th>Review</th>\n",
       "      <th>Liked</th>\n",
       "    </tr>\n",
       "  </thead>\n",
       "  <tbody>\n",
       "    <tr>\n",
       "      <th>0</th>\n",
       "      <td>wow loved this place</td>\n",
       "      <td>1</td>\n",
       "    </tr>\n",
       "    <tr>\n",
       "      <th>1</th>\n",
       "      <td>crust is not good</td>\n",
       "      <td>0</td>\n",
       "    </tr>\n",
       "    <tr>\n",
       "      <th>2</th>\n",
       "      <td>not tasty and the texture was just nasty</td>\n",
       "      <td>0</td>\n",
       "    </tr>\n",
       "    <tr>\n",
       "      <th>3</th>\n",
       "      <td>stopped by during the late may bank holiday of...</td>\n",
       "      <td>1</td>\n",
       "    </tr>\n",
       "    <tr>\n",
       "      <th>4</th>\n",
       "      <td>the selection on the menu was great and so wer...</td>\n",
       "      <td>1</td>\n",
       "    </tr>\n",
       "  </tbody>\n",
       "</table>\n",
       "</div>"
      ],
      "text/plain": [
       "                                              Review  Liked\n",
       "0                               wow loved this place      1\n",
       "1                                  crust is not good      0\n",
       "2           not tasty and the texture was just nasty      0\n",
       "3  stopped by during the late may bank holiday of...      1\n",
       "4  the selection on the menu was great and so wer...      1"
      ]
     },
     "execution_count": 107,
     "metadata": {},
     "output_type": "execute_result"
    }
   ],
   "source": [
    "df.head()"
   ]
  },
  {
   "cell_type": "code",
   "execution_count": 108,
   "id": "2157cf6e",
   "metadata": {},
   "outputs": [],
   "source": [
    "X = df.Review.values\n",
    "y = df.Liked.values"
   ]
  },
  {
   "cell_type": "code",
   "execution_count": 109,
   "id": "58ae808b",
   "metadata": {},
   "outputs": [
    {
     "name": "stderr",
     "output_type": "stream",
     "text": [
      "[nltk_data] Downloading package stopwords to\n",
      "[nltk_data]     C:\\Users\\risha\\AppData\\Roaming\\nltk_data...\n",
      "[nltk_data]   Package stopwords is already up-to-date!\n"
     ]
    },
    {
     "data": {
      "text/plain": [
       "True"
      ]
     },
     "execution_count": 109,
     "metadata": {},
     "output_type": "execute_result"
    }
   ],
   "source": [
    "#from nltk.corpus import stopwords\n",
    "import nltk\n",
    "nltk.download('stopwords')"
   ]
  },
  {
   "cell_type": "code",
   "execution_count": 110,
   "id": "661a4d0b",
   "metadata": {},
   "outputs": [],
   "source": [
    "#words = stopwords.words('english')"
   ]
  },
  {
   "cell_type": "code",
   "execution_count": 111,
   "id": "cf0e38f9",
   "metadata": {},
   "outputs": [],
   "source": [
    "#print(words)"
   ]
  },
  {
   "cell_type": "code",
   "execution_count": 112,
   "id": "e2b3244f",
   "metadata": {},
   "outputs": [],
   "source": [
    "#if 'not' in words:\n",
    " #   words.remove('not')"
   ]
  },
  {
   "cell_type": "code",
   "execution_count": 113,
   "id": "ced47e15",
   "metadata": {},
   "outputs": [],
   "source": [
    "#stop.append()"
   ]
  },
  {
   "cell_type": "code",
   "execution_count": 114,
   "id": "e45569ad",
   "metadata": {},
   "outputs": [],
   "source": [
    "from sklearn.model_selection import train_test_split"
   ]
  },
  {
   "cell_type": "code",
   "execution_count": 115,
   "id": "6ceb3d7c",
   "metadata": {},
   "outputs": [],
   "source": [
    "xtrain,xtest,ytrain,ytest = train_test_split(X,y,test_size=.2,random_state=12)"
   ]
  },
  {
   "cell_type": "code",
   "execution_count": 116,
   "id": "e51c69ec",
   "metadata": {},
   "outputs": [],
   "source": [
    "cv = CountVectorizer()"
   ]
  },
  {
   "cell_type": "code",
   "execution_count": 117,
   "id": "8d76edff",
   "metadata": {},
   "outputs": [],
   "source": [
    "cv_train = cv.fit_transform(xtrain)  #for training data\n",
    "\n",
    "cv_test = cv.transform(xtest)        #for testing data"
   ]
  },
  {
   "cell_type": "code",
   "execution_count": 118,
   "id": "402788f2",
   "metadata": {},
   "outputs": [],
   "source": [
    "#cv.get_stop_words()"
   ]
  },
  {
   "cell_type": "code",
   "execution_count": 119,
   "id": "f055d901",
   "metadata": {},
   "outputs": [],
   "source": [
    "#for i in list(cv.get_stop_words()):\n",
    "#    print(i, end=',')"
   ]
  },
  {
   "cell_type": "code",
   "execution_count": 120,
   "id": "6aa51c3d",
   "metadata": {},
   "outputs": [],
   "source": [
    "#if 'not' in list(cv.get_stop_words()):\n",
    " #   print('Yes it exists!')"
   ]
  },
  {
   "cell_type": "code",
   "execution_count": null,
   "id": "6a5114a7",
   "metadata": {},
   "outputs": [],
   "source": [
    "cv.get_feature_names()"
   ]
  },
  {
   "cell_type": "code",
   "execution_count": 122,
   "id": "55ec21d7",
   "metadata": {},
   "outputs": [
    {
     "data": {
      "text/plain": [
       "(800, 1776)"
      ]
     },
     "execution_count": 122,
     "metadata": {},
     "output_type": "execute_result"
    }
   ],
   "source": [
    "cv_train.shape"
   ]
  },
  {
   "cell_type": "code",
   "execution_count": 123,
   "id": "873624a3",
   "metadata": {},
   "outputs": [
    {
     "data": {
      "text/plain": [
       "1776"
      ]
     },
     "execution_count": 123,
     "metadata": {},
     "output_type": "execute_result"
    }
   ],
   "source": [
    "len(cv.get_feature_names())"
   ]
  },
  {
   "cell_type": "code",
   "execution_count": 124,
   "id": "64dfa2c4",
   "metadata": {},
   "outputs": [],
   "source": [
    "from sklearn.linear_model import LogisticRegression\n",
    "#from sklearn.metrics import accuracy_score"
   ]
  },
  {
   "cell_type": "code",
   "execution_count": 125,
   "id": "fba45da4",
   "metadata": {},
   "outputs": [],
   "source": [
    "log = LogisticRegression()"
   ]
  },
  {
   "cell_type": "code",
   "execution_count": 126,
   "id": "f22aa933",
   "metadata": {},
   "outputs": [
    {
     "data": {
      "text/plain": [
       "0.78"
      ]
     },
     "execution_count": 126,
     "metadata": {},
     "output_type": "execute_result"
    }
   ],
   "source": [
    "log.fit(cv_train,ytrain)\n",
    "\n",
    "pred = log.predict(cv_test)\n",
    "\n",
    "#score = accuracy_score(ytest,pred)\n",
    "#score\n",
    "score = log.score(cv_test,ytest)\n",
    "score"
   ]
  },
  {
   "cell_type": "code",
   "execution_count": 127,
   "id": "df254795",
   "metadata": {},
   "outputs": [
    {
     "data": {
      "text/plain": [
       "array([0, 0, 1, 1, 1, 0, 0, 0, 1, 1, 1, 1, 0, 0, 1, 1, 1, 1, 0, 1, 0, 1,\n",
       "       1, 0, 1, 1, 0, 1, 0, 0, 0, 0, 0, 0, 0, 0, 1, 1, 1, 1, 1, 0, 0, 0,\n",
       "       1, 0, 0, 1, 1, 0, 0, 1, 0, 0, 0, 1, 1, 1, 1, 1, 0, 1, 1, 1, 0, 1,\n",
       "       0, 1, 1, 0, 0, 1, 1, 1, 1, 1, 0, 1, 1, 1, 1, 0, 1, 1, 0, 0, 0, 1,\n",
       "       1, 1, 0, 1, 0, 0, 0, 1, 0, 1, 0, 0, 0, 1, 1, 1, 1, 1, 0, 0, 1, 1,\n",
       "       1, 0, 0, 1, 0, 1, 1, 1, 1, 0, 1, 1, 1, 0, 1, 0, 1, 1, 1, 0, 0, 0,\n",
       "       1, 0, 0, 0, 1, 0, 0, 0, 1, 0, 0, 0, 1, 1, 1, 1, 0, 0, 0, 0, 0, 1,\n",
       "       0, 0, 0, 0, 1, 0, 1, 1, 1, 0, 1, 1, 1, 0, 0, 1, 1, 0, 1, 1, 1, 1,\n",
       "       1, 0, 0, 1, 1, 1, 0, 1, 0, 0, 0, 1, 1, 0, 1, 1, 1, 0, 0, 1, 1, 0,\n",
       "       1, 1], dtype=int64)"
      ]
     },
     "execution_count": 127,
     "metadata": {},
     "output_type": "execute_result"
    }
   ],
   "source": [
    "pred"
   ]
  },
  {
   "cell_type": "code",
   "execution_count": 128,
   "id": "49647ae5",
   "metadata": {},
   "outputs": [],
   "source": [
    "test = ['food was 123@#$ good']"
   ]
  },
  {
   "cell_type": "code",
   "execution_count": 129,
   "id": "5aefa94c",
   "metadata": {},
   "outputs": [],
   "source": [
    "cleaned_data=[]\n",
    "\n",
    "for i in test:\n",
    "    t = clean(i)\n",
    "    cleaned_data.append(t)"
   ]
  },
  {
   "cell_type": "code",
   "execution_count": 130,
   "id": "09e57282",
   "metadata": {},
   "outputs": [
    {
     "data": {
      "text/plain": [
       "['food was good']"
      ]
     },
     "execution_count": 130,
     "metadata": {},
     "output_type": "execute_result"
    }
   ],
   "source": [
    "cleaned_data"
   ]
  },
  {
   "cell_type": "code",
   "execution_count": 131,
   "id": "02787de8",
   "metadata": {},
   "outputs": [],
   "source": [
    "t1 = cv.transform(cleaned_data)"
   ]
  },
  {
   "cell_type": "code",
   "execution_count": 132,
   "id": "57a11e01",
   "metadata": {},
   "outputs": [
    {
     "data": {
      "text/plain": [
       "(1, 1776)"
      ]
     },
     "execution_count": 132,
     "metadata": {},
     "output_type": "execute_result"
    }
   ],
   "source": [
    "t1.shape"
   ]
  },
  {
   "cell_type": "code",
   "execution_count": 133,
   "id": "5afc052c",
   "metadata": {},
   "outputs": [
    {
     "data": {
      "text/plain": [
       "array([1], dtype=int64)"
      ]
     },
     "execution_count": 133,
     "metadata": {},
     "output_type": "execute_result"
    }
   ],
   "source": [
    "log.predict(t1)"
   ]
  },
  {
   "cell_type": "code",
   "execution_count": 134,
   "id": "40882f89",
   "metadata": {},
   "outputs": [],
   "source": [
    "########################################### 2 Way : Importing a text file and performing extraction ##########################"
   ]
  },
  {
   "cell_type": "code",
   "execution_count": 135,
   "id": "148c798e",
   "metadata": {},
   "outputs": [],
   "source": [
    "from sklearn.feature_extraction.text import CountVectorizer\n",
    "\n",
    "import pandas as pd"
   ]
  },
  {
   "cell_type": "code",
   "execution_count": 136,
   "id": "3a82fb78",
   "metadata": {},
   "outputs": [],
   "source": [
    "df =pd.read_csv('IMDB Dataset.csv')"
   ]
  },
  {
   "cell_type": "code",
   "execution_count": 137,
   "id": "1396cfe8",
   "metadata": {},
   "outputs": [
    {
     "data": {
      "text/html": [
       "<div>\n",
       "<style scoped>\n",
       "    .dataframe tbody tr th:only-of-type {\n",
       "        vertical-align: middle;\n",
       "    }\n",
       "\n",
       "    .dataframe tbody tr th {\n",
       "        vertical-align: top;\n",
       "    }\n",
       "\n",
       "    .dataframe thead th {\n",
       "        text-align: right;\n",
       "    }\n",
       "</style>\n",
       "<table border=\"1\" class=\"dataframe\">\n",
       "  <thead>\n",
       "    <tr style=\"text-align: right;\">\n",
       "      <th></th>\n",
       "      <th>review</th>\n",
       "      <th>sentiment</th>\n",
       "    </tr>\n",
       "  </thead>\n",
       "  <tbody>\n",
       "    <tr>\n",
       "      <th>0</th>\n",
       "      <td>One of the other reviewers has mentioned that ...</td>\n",
       "      <td>positive</td>\n",
       "    </tr>\n",
       "    <tr>\n",
       "      <th>1</th>\n",
       "      <td>A wonderful little production. &lt;br /&gt;&lt;br /&gt;The...</td>\n",
       "      <td>positive</td>\n",
       "    </tr>\n",
       "    <tr>\n",
       "      <th>2</th>\n",
       "      <td>I thought this was a wonderful way to spend ti...</td>\n",
       "      <td>positive</td>\n",
       "    </tr>\n",
       "    <tr>\n",
       "      <th>3</th>\n",
       "      <td>Basically there's a family where a little boy ...</td>\n",
       "      <td>negative</td>\n",
       "    </tr>\n",
       "    <tr>\n",
       "      <th>4</th>\n",
       "      <td>Petter Mattei's \"Love in the Time of Money\" is...</td>\n",
       "      <td>positive</td>\n",
       "    </tr>\n",
       "  </tbody>\n",
       "</table>\n",
       "</div>"
      ],
      "text/plain": [
       "                                              review sentiment\n",
       "0  One of the other reviewers has mentioned that ...  positive\n",
       "1  A wonderful little production. <br /><br />The...  positive\n",
       "2  I thought this was a wonderful way to spend ti...  positive\n",
       "3  Basically there's a family where a little boy ...  negative\n",
       "4  Petter Mattei's \"Love in the Time of Money\" is...  positive"
      ]
     },
     "execution_count": 137,
     "metadata": {},
     "output_type": "execute_result"
    }
   ],
   "source": [
    "df.head()"
   ]
  },
  {
   "cell_type": "code",
   "execution_count": 138,
   "id": "5fc2657f",
   "metadata": {},
   "outputs": [
    {
     "data": {
      "text/plain": [
       "'Petter Mattei\\'s \"Love in the Time of Money\" is a visually stunning film to watch. Mr. Mattei offers us a vivid portrait about human relations. This is a movie that seems to be telling us what money, power and success do to people in the different situations we encounter. <br /><br />This being a variation on the Arthur Schnitzler\\'s play about the same theme, the director transfers the action to the present time New York where all these different characters meet and connect. Each one is connected in one way, or another to the next person, but no one seems to know the previous point of contact. Stylishly, the film has a sophisticated luxurious look. We are taken to see how these people live and the world they live in their own habitat.<br /><br />The only thing one gets out of all these souls in the picture is the different stages of loneliness each one inhabits. A big city is not exactly the best place in which human relations find sincere fulfillment, as one discerns is the case with most of the people we encounter.<br /><br />The acting is good under Mr. Mattei\\'s direction. Steve Buscemi, Rosario Dawson, Carol Kane, Michael Imperioli, Adrian Grenier, and the rest of the talented cast, make these characters come alive.<br /><br />We wish Mr. Mattei good luck and await anxiously for his next work.'"
      ]
     },
     "execution_count": 138,
     "metadata": {},
     "output_type": "execute_result"
    }
   ],
   "source": [
    "df.iloc[4,0]"
   ]
  },
  {
   "cell_type": "code",
   "execution_count": 139,
   "id": "ebbb56d8",
   "metadata": {},
   "outputs": [
    {
     "data": {
      "text/plain": [
       "(50000, 2)"
      ]
     },
     "execution_count": 139,
     "metadata": {},
     "output_type": "execute_result"
    }
   ],
   "source": [
    "df.shape"
   ]
  },
  {
   "cell_type": "code",
   "execution_count": 140,
   "id": "449e59c1",
   "metadata": {},
   "outputs": [
    {
     "data": {
      "text/plain": [
       "positive    25000\n",
       "negative    25000\n",
       "Name: sentiment, dtype: int64"
      ]
     },
     "execution_count": 140,
     "metadata": {},
     "output_type": "execute_result"
    }
   ],
   "source": [
    "df.sentiment.value_counts()"
   ]
  },
  {
   "cell_type": "code",
   "execution_count": 141,
   "id": "5ca1aaac",
   "metadata": {},
   "outputs": [],
   "source": [
    "import re"
   ]
  },
  {
   "cell_type": "code",
   "execution_count": 142,
   "id": "48894b1f",
   "metadata": {},
   "outputs": [],
   "source": [
    "def clean(x):\n",
    "    \n",
    "    #remove all html tags from data\n",
    "    #remove all numbers from data\n",
    "    #remove all special chars from data\n",
    "    #remove stop words\n",
    "    #stemming\n",
    "    #lemmitization\n",
    "    #etc..\n",
    "    \n",
    "    s = re.sub('<.*?>',' ',x) #remove html tags\n",
    "    \n",
    "    s = re.sub('[^A-Za-z]',' ',s)  \n",
    "    #to replace everything except A-Z or a-z with ' '(single space)\n",
    "    \n",
    "    s = re.sub('\\s+',' ',s)       \n",
    "    #to replace more than one space's with single space only\n",
    "    \n",
    "    s = s.strip()    \n",
    "    #remove spaces from either from beginning or end of string\n",
    "    \n",
    "    return s.lower()    #return string in lower case"
   ]
  },
  {
   "cell_type": "code",
   "execution_count": 143,
   "id": "1e99779b",
   "metadata": {},
   "outputs": [],
   "source": [
    "df['review'] = df.review.apply(clean)"
   ]
  },
  {
   "cell_type": "code",
   "execution_count": 144,
   "id": "33f51011",
   "metadata": {},
   "outputs": [
    {
     "data": {
      "text/html": [
       "<div>\n",
       "<style scoped>\n",
       "    .dataframe tbody tr th:only-of-type {\n",
       "        vertical-align: middle;\n",
       "    }\n",
       "\n",
       "    .dataframe tbody tr th {\n",
       "        vertical-align: top;\n",
       "    }\n",
       "\n",
       "    .dataframe thead th {\n",
       "        text-align: right;\n",
       "    }\n",
       "</style>\n",
       "<table border=\"1\" class=\"dataframe\">\n",
       "  <thead>\n",
       "    <tr style=\"text-align: right;\">\n",
       "      <th></th>\n",
       "      <th>review</th>\n",
       "      <th>sentiment</th>\n",
       "    </tr>\n",
       "  </thead>\n",
       "  <tbody>\n",
       "    <tr>\n",
       "      <th>0</th>\n",
       "      <td>one of the other reviewers has mentioned that ...</td>\n",
       "      <td>positive</td>\n",
       "    </tr>\n",
       "    <tr>\n",
       "      <th>1</th>\n",
       "      <td>a wonderful little production the filming tech...</td>\n",
       "      <td>positive</td>\n",
       "    </tr>\n",
       "    <tr>\n",
       "      <th>2</th>\n",
       "      <td>i thought this was a wonderful way to spend ti...</td>\n",
       "      <td>positive</td>\n",
       "    </tr>\n",
       "    <tr>\n",
       "      <th>3</th>\n",
       "      <td>basically there s a family where a little boy ...</td>\n",
       "      <td>negative</td>\n",
       "    </tr>\n",
       "    <tr>\n",
       "      <th>4</th>\n",
       "      <td>petter mattei s love in the time of money is a...</td>\n",
       "      <td>positive</td>\n",
       "    </tr>\n",
       "  </tbody>\n",
       "</table>\n",
       "</div>"
      ],
      "text/plain": [
       "                                              review sentiment\n",
       "0  one of the other reviewers has mentioned that ...  positive\n",
       "1  a wonderful little production the filming tech...  positive\n",
       "2  i thought this was a wonderful way to spend ti...  positive\n",
       "3  basically there s a family where a little boy ...  negative\n",
       "4  petter mattei s love in the time of money is a...  positive"
      ]
     },
     "execution_count": 144,
     "metadata": {},
     "output_type": "execute_result"
    }
   ],
   "source": [
    "df.head()"
   ]
  },
  {
   "cell_type": "code",
   "execution_count": 145,
   "id": "943bbec0",
   "metadata": {},
   "outputs": [
    {
     "data": {
      "text/plain": [
       "'one of the other reviewers has mentioned that after watching just oz episode you ll be hooked they are right as this is exactly what happened with me the first thing that struck me about oz was its brutality and unflinching scenes of violence which set in right from the word go trust me this is not a show for the faint hearted or timid this show pulls no punches with regards to drugs sex or violence its is hardcore in the classic use of the word it is called oz as that is the nickname given to the oswald maximum security state penitentary it focuses mainly on emerald city an experimental section of the prison where all the cells have glass fronts and face inwards so privacy is not high on the agenda em city is home to many aryans muslims gangstas latinos christians italians irish and more so scuffles death stares dodgy dealings and shady agreements are never far away i would say the main appeal of the show is due to the fact that it goes where other shows wouldn t dare forget pretty pictures painted for mainstream audiences forget charm forget romance oz doesn t mess around the first episode i ever saw struck me as so nasty it was surreal i couldn t say i was ready for it but as i watched more i developed a taste for oz and got accustomed to the high levels of graphic violence not just violence but injustice crooked guards who ll be sold out for a nickel inmates who ll kill on order and get away with it well mannered middle class inmates being turned into prison bitches due to their lack of street skills or prison experience watching oz you may become comfortable with what is uncomfortable viewing thats if you can get in touch with your darker side'"
      ]
     },
     "execution_count": 145,
     "metadata": {},
     "output_type": "execute_result"
    }
   ],
   "source": [
    "df.iloc[0].review"
   ]
  },
  {
   "cell_type": "code",
   "execution_count": 146,
   "id": "17f62dc7",
   "metadata": {},
   "outputs": [],
   "source": [
    "X = df.review.values\n",
    "y = df.sentiment.values"
   ]
  },
  {
   "cell_type": "code",
   "execution_count": 147,
   "id": "0dfec8cd",
   "metadata": {},
   "outputs": [],
   "source": [
    "from sklearn.model_selection import train_test_split"
   ]
  },
  {
   "cell_type": "code",
   "execution_count": 148,
   "id": "8f63c8fd",
   "metadata": {},
   "outputs": [],
   "source": [
    "xtrain,xtest,ytrain,ytest = train_test_split(X,y,test_size=.2,random_state=12)"
   ]
  },
  {
   "cell_type": "code",
   "execution_count": 149,
   "id": "df0ec312",
   "metadata": {},
   "outputs": [],
   "source": [
    "vect = CountVectorizer()"
   ]
  },
  {
   "cell_type": "code",
   "execution_count": 150,
   "id": "fd4f074e",
   "metadata": {},
   "outputs": [],
   "source": [
    "#vect.get_feature_names()"
   ]
  },
  {
   "cell_type": "code",
   "execution_count": 151,
   "id": "dba6141c",
   "metadata": {},
   "outputs": [],
   "source": [
    "cv_train = vect.fit_transform(xtrain)  #for training data\n",
    "\n",
    "cv_test = vect.transform(xtest)        #for testing data"
   ]
  },
  {
   "cell_type": "code",
   "execution_count": 152,
   "id": "429adc7c",
   "metadata": {},
   "outputs": [],
   "source": [
    "#cv.get_stop_words()"
   ]
  },
  {
   "cell_type": "code",
   "execution_count": 153,
   "id": "779d0f8a",
   "metadata": {},
   "outputs": [
    {
     "data": {
      "text/plain": [
       "(40000, 90634)"
      ]
     },
     "execution_count": 153,
     "metadata": {},
     "output_type": "execute_result"
    }
   ],
   "source": [
    "cv_train.shape"
   ]
  },
  {
   "cell_type": "code",
   "execution_count": 154,
   "id": "973e5108",
   "metadata": {},
   "outputs": [],
   "source": [
    "#len(cv.get_feature_names())"
   ]
  },
  {
   "cell_type": "code",
   "execution_count": 155,
   "id": "911267d6",
   "metadata": {},
   "outputs": [],
   "source": [
    "from sklearn.linear_model import LogisticRegression\n",
    "from sklearn.metrics import accuracy_score"
   ]
  },
  {
   "cell_type": "code",
   "execution_count": 156,
   "id": "1ef5c980",
   "metadata": {},
   "outputs": [],
   "source": [
    "log = LogisticRegression()"
   ]
  },
  {
   "cell_type": "code",
   "execution_count": 157,
   "id": "508f974f",
   "metadata": {},
   "outputs": [
    {
     "name": "stderr",
     "output_type": "stream",
     "text": [
      "C:\\Users\\risha\\anaconda3\\lib\\site-packages\\sklearn\\linear_model\\_logistic.py:763: ConvergenceWarning: lbfgs failed to converge (status=1):\n",
      "STOP: TOTAL NO. of ITERATIONS REACHED LIMIT.\n",
      "\n",
      "Increase the number of iterations (max_iter) or scale the data as shown in:\n",
      "    https://scikit-learn.org/stable/modules/preprocessing.html\n",
      "Please also refer to the documentation for alternative solver options:\n",
      "    https://scikit-learn.org/stable/modules/linear_model.html#logistic-regression\n",
      "  n_iter_i = _check_optimize_result(\n"
     ]
    },
    {
     "data": {
      "text/plain": [
       "0.8874"
      ]
     },
     "execution_count": 157,
     "metadata": {},
     "output_type": "execute_result"
    }
   ],
   "source": [
    "log.fit(cv_train,ytrain)\n",
    "\n",
    "pred = log.predict(cv_test)\n",
    "\n",
    "score = accuracy_score(ytest,pred)\n",
    "score"
   ]
  },
  {
   "cell_type": "code",
   "execution_count": null,
   "id": "39c71557",
   "metadata": {},
   "outputs": [],
   "source": []
  },
  {
   "cell_type": "code",
   "execution_count": null,
   "id": "86d4fde4",
   "metadata": {},
   "outputs": [],
   "source": []
  },
  {
   "cell_type": "code",
   "execution_count": 158,
   "id": "61057fb8",
   "metadata": {},
   "outputs": [],
   "source": [
    "x =vect.fit_transform(df['review'])"
   ]
  },
  {
   "cell_type": "code",
   "execution_count": 159,
   "id": "27872a40",
   "metadata": {},
   "outputs": [
    {
     "data": {
      "text/plain": [
       "<50000x99394 sparse matrix of type '<class 'numpy.int64'>'\n",
       "\twith 6755626 stored elements in Compressed Sparse Row format>"
      ]
     },
     "execution_count": 159,
     "metadata": {},
     "output_type": "execute_result"
    }
   ],
   "source": [
    "x"
   ]
  },
  {
   "cell_type": "code",
   "execution_count": null,
   "id": "6574a93b",
   "metadata": {},
   "outputs": [],
   "source": [
    "#vect.get_feature_names()"
   ]
  },
  {
   "cell_type": "code",
   "execution_count": null,
   "id": "8df7061b",
   "metadata": {},
   "outputs": [],
   "source": []
  }
 ],
 "metadata": {
  "kernelspec": {
   "display_name": "Python 3 (ipykernel)",
   "language": "python",
   "name": "python3"
  },
  "language_info": {
   "codemirror_mode": {
    "name": "ipython",
    "version": 3
   },
   "file_extension": ".py",
   "mimetype": "text/x-python",
   "name": "python",
   "nbconvert_exporter": "python",
   "pygments_lexer": "ipython3",
   "version": "3.9.7"
  }
 },
 "nbformat": 4,
 "nbformat_minor": 5
}
