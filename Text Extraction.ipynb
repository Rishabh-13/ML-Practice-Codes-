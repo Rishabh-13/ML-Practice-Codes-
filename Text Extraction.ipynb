{
 "cells": [
  {
   "cell_type": "code",
   "execution_count": 28,
   "id": "02b03b4c",
   "metadata": {},
   "outputs": [],
   "source": [
    "from sklearn.feature_extraction.text import CountVectorizer\n",
    "\n",
    "import pandas as pd\n",
    "\n",
    "#to avoid future warning\n",
    "#import warnings\n",
    "#warnings.simplefilter(action='ignore', category=FutureWarning)"
   ]
  },
  {
   "cell_type": "code",
   "execution_count": 29,
   "id": "ad5e7f42",
   "metadata": {},
   "outputs": [],
   "source": [
    "vect = CountVectorizer()"
   ]
  },
  {
   "cell_type": "code",
   "execution_count": 30,
   "id": "c34ae5c9",
   "metadata": {},
   "outputs": [],
   "source": [
    "messages = [\"Hey hey hey lets go get lunch today..!\",\n",
    "            \"Did you go home?..\",\n",
    "            \"Hey!!! I need a favor\"]"
   ]
  },
  {
   "cell_type": "markdown",
   "id": "b4f827aa",
   "metadata": {},
   "source": [
    "using fit method ,CountVectorizer() will learn what tokens are being used in our messages"
   ]
  },
  {
   "cell_type": "code",
   "execution_count": 31,
   "id": "e925a327",
   "metadata": {},
   "outputs": [
    {
     "data": {
      "text/plain": [
       "CountVectorizer()"
      ]
     },
     "execution_count": 31,
     "metadata": {},
     "output_type": "execute_result"
    }
   ],
   "source": [
    "vect.fit(messages)"
   ]
  },
  {
   "cell_type": "code",
   "execution_count": 32,
   "id": "21c2b1dc",
   "metadata": {},
   "outputs": [
    {
     "data": {
      "text/plain": [
       "['did',\n",
       " 'favor',\n",
       " 'get',\n",
       " 'go',\n",
       " 'hey',\n",
       " 'home',\n",
       " 'lets',\n",
       " 'lunch',\n",
       " 'need',\n",
       " 'today',\n",
       " 'you']"
      ]
     },
     "execution_count": 32,
     "metadata": {},
     "output_type": "execute_result"
    }
   ],
   "source": [
    "vect.get_feature_names()"
   ]
  },
  {
   "cell_type": "code",
   "execution_count": null,
   "id": "551b8b2e",
   "metadata": {},
   "outputs": [],
   "source": []
  },
  {
   "cell_type": "code",
   "execution_count": 33,
   "id": "d533ceb7",
   "metadata": {},
   "outputs": [],
   "source": [
    "x_new = vect.fit_transform(messages).toarray()"
   ]
  },
  {
   "cell_type": "code",
   "execution_count": 34,
   "id": "c105dcd7",
   "metadata": {},
   "outputs": [
    {
     "data": {
      "text/plain": [
       "array([[0, 0, 1, 1, 3, 0, 1, 1, 0, 1, 0],\n",
       "       [1, 0, 0, 1, 0, 1, 0, 0, 0, 0, 1],\n",
       "       [0, 1, 0, 0, 1, 0, 0, 0, 1, 0, 0]], dtype=int64)"
      ]
     },
     "execution_count": 34,
     "metadata": {},
     "output_type": "execute_result"
    }
   ],
   "source": [
    "x_new"
   ]
  },
  {
   "cell_type": "code",
   "execution_count": 35,
   "id": "9f7af0ac",
   "metadata": {},
   "outputs": [],
   "source": [
    "#x_new = vect.fit_transform(messages).toarray()"
   ]
  },
  {
   "cell_type": "code",
   "execution_count": 36,
   "id": "83ee68e0",
   "metadata": {},
   "outputs": [
    {
     "data": {
      "text/plain": [
       "['did',\n",
       " 'favor',\n",
       " 'get',\n",
       " 'go',\n",
       " 'hey',\n",
       " 'home',\n",
       " 'lets',\n",
       " 'lunch',\n",
       " 'need',\n",
       " 'today',\n",
       " 'you']"
      ]
     },
     "execution_count": 36,
     "metadata": {},
     "output_type": "execute_result"
    }
   ],
   "source": [
    "vect.get_feature_names()"
   ]
  },
  {
   "cell_type": "markdown",
   "id": "082b0ec4",
   "metadata": {},
   "source": [
    "- By using the get_feature_name() method ,we can see what features\n",
    "  have been created from our messages.(or what tokens have been learned by CountVectorizer)"
   ]
  },
  {
   "cell_type": "code",
   "execution_count": 37,
   "id": "e4cab797",
   "metadata": {},
   "outputs": [
    {
     "name": "stdout",
     "output_type": "stream",
     "text": [
      "   did  favor  get  go  hey  home  lets  lunch  need  today  you\n",
      "0    0      0    1   1    3     0     1      1     0      1    0\n",
      "1    1      0    0   1    0     1     0      0     0      0    1\n",
      "2    0      1    0   0    1     0     0      0     1      0    0\n"
     ]
    }
   ],
   "source": [
    "df = pd.DataFrame(x_new,columns = vect.get_feature_names())\n",
    "print (df)"
   ]
  },
  {
   "cell_type": "markdown",
   "id": "3f32b768",
   "metadata": {},
   "source": [
    "### Let's read text data from  a file and try to convert it into numeric form"
   ]
  },
  {
   "cell_type": "code",
   "execution_count": 38,
   "id": "2df696a4",
   "metadata": {},
   "outputs": [],
   "source": [
    "df = pd.read_csv('Restaurant_Reviews.tsv',sep='\\t')"
   ]
  },
  {
   "cell_type": "code",
   "execution_count": 39,
   "id": "e0061f89",
   "metadata": {},
   "outputs": [
    {
     "data": {
      "text/html": [
       "<div>\n",
       "<style scoped>\n",
       "    .dataframe tbody tr th:only-of-type {\n",
       "        vertical-align: middle;\n",
       "    }\n",
       "\n",
       "    .dataframe tbody tr th {\n",
       "        vertical-align: top;\n",
       "    }\n",
       "\n",
       "    .dataframe thead th {\n",
       "        text-align: right;\n",
       "    }\n",
       "</style>\n",
       "<table border=\"1\" class=\"dataframe\">\n",
       "  <thead>\n",
       "    <tr style=\"text-align: right;\">\n",
       "      <th></th>\n",
       "      <th>Review</th>\n",
       "      <th>Liked</th>\n",
       "    </tr>\n",
       "  </thead>\n",
       "  <tbody>\n",
       "    <tr>\n",
       "      <th>0</th>\n",
       "      <td>Wow... Loved this place.</td>\n",
       "      <td>1</td>\n",
       "    </tr>\n",
       "    <tr>\n",
       "      <th>1</th>\n",
       "      <td>Crust is not good.</td>\n",
       "      <td>0</td>\n",
       "    </tr>\n",
       "    <tr>\n",
       "      <th>2</th>\n",
       "      <td>Not tasty and the texture was just nasty.</td>\n",
       "      <td>0</td>\n",
       "    </tr>\n",
       "    <tr>\n",
       "      <th>3</th>\n",
       "      <td>Stopped by during the late May bank holiday of...</td>\n",
       "      <td>1</td>\n",
       "    </tr>\n",
       "    <tr>\n",
       "      <th>4</th>\n",
       "      <td>The selection on the menu was great and so wer...</td>\n",
       "      <td>1</td>\n",
       "    </tr>\n",
       "  </tbody>\n",
       "</table>\n",
       "</div>"
      ],
      "text/plain": [
       "                                              Review  Liked\n",
       "0                           Wow... Loved this place.      1\n",
       "1                                 Crust is not good.      0\n",
       "2          Not tasty and the texture was just nasty.      0\n",
       "3  Stopped by during the late May bank holiday of...      1\n",
       "4  The selection on the menu was great and so wer...      1"
      ]
     },
     "execution_count": 39,
     "metadata": {},
     "output_type": "execute_result"
    }
   ],
   "source": [
    "df.head()"
   ]
  },
  {
   "cell_type": "code",
   "execution_count": 40,
   "id": "0d85ac65",
   "metadata": {},
   "outputs": [
    {
     "data": {
      "text/plain": [
       "(1000, 2)"
      ]
     },
     "execution_count": 40,
     "metadata": {},
     "output_type": "execute_result"
    }
   ],
   "source": [
    "df.shape"
   ]
  },
  {
   "cell_type": "code",
   "execution_count": 41,
   "id": "bc43d87e",
   "metadata": {},
   "outputs": [
    {
     "data": {
      "text/plain": [
       "1    500\n",
       "0    500\n",
       "Name: Liked, dtype: int64"
      ]
     },
     "execution_count": 41,
     "metadata": {},
     "output_type": "execute_result"
    }
   ],
   "source": [
    "df.Liked.value_counts()  #to display no. of samples for each unique value"
   ]
  },
  {
   "cell_type": "code",
   "execution_count": 42,
   "id": "05f77be1",
   "metadata": {},
   "outputs": [],
   "source": [
    "import re"
   ]
  },
  {
   "cell_type": "code",
   "execution_count": 43,
   "id": "371544fa",
   "metadata": {},
   "outputs": [],
   "source": [
    "def clean(x):\n",
    "    \n",
    "    #remove all html tags from data\n",
    "    #remove all numbers from data\n",
    "    #remove all special chars from data\n",
    "    #remove stop words\n",
    "    #stemming\n",
    "    #lemmitization\n",
    "    #etc..\n",
    "    s = re.sub('<.*?>',' ',x) #remove html tags\n",
    "    \n",
    "    s = re.sub('[^A-Za-z]',' ',s)  \n",
    "    #to replace everything except A-Z or a-z with ' '(single space)\n",
    "    \n",
    "    s = re.sub('\\s+',' ',s)       \n",
    "    #to replace more than one space's with single space only\n",
    "    \n",
    "    s = s.strip()    \n",
    "    #remove spaces from either from beginning or end of string\n",
    "    \n",
    "    return s.lower()    #return string in lower case\n",
    "    \n",
    "    "
   ]
  },
  {
   "cell_type": "code",
   "execution_count": 44,
   "id": "16ad850e",
   "metadata": {},
   "outputs": [
    {
     "data": {
      "text/plain": [
       "'hello python hi ok'"
      ]
     },
     "execution_count": 44,
     "metadata": {},
     "output_type": "execute_result"
    }
   ],
   "source": [
    "clean('hello python 123hi #@ <html>ok</html>')"
   ]
  },
  {
   "cell_type": "code",
   "execution_count": 45,
   "id": "5a6b6d8d",
   "metadata": {},
   "outputs": [],
   "source": [
    "df['Review'] = df.Review.apply(clean)"
   ]
  },
  {
   "cell_type": "code",
   "execution_count": 46,
   "id": "8799b7c5",
   "metadata": {},
   "outputs": [
    {
     "data": {
      "text/html": [
       "<div>\n",
       "<style scoped>\n",
       "    .dataframe tbody tr th:only-of-type {\n",
       "        vertical-align: middle;\n",
       "    }\n",
       "\n",
       "    .dataframe tbody tr th {\n",
       "        vertical-align: top;\n",
       "    }\n",
       "\n",
       "    .dataframe thead th {\n",
       "        text-align: right;\n",
       "    }\n",
       "</style>\n",
       "<table border=\"1\" class=\"dataframe\">\n",
       "  <thead>\n",
       "    <tr style=\"text-align: right;\">\n",
       "      <th></th>\n",
       "      <th>Review</th>\n",
       "      <th>Liked</th>\n",
       "    </tr>\n",
       "  </thead>\n",
       "  <tbody>\n",
       "    <tr>\n",
       "      <th>0</th>\n",
       "      <td>wow loved this place</td>\n",
       "      <td>1</td>\n",
       "    </tr>\n",
       "    <tr>\n",
       "      <th>1</th>\n",
       "      <td>crust is not good</td>\n",
       "      <td>0</td>\n",
       "    </tr>\n",
       "    <tr>\n",
       "      <th>2</th>\n",
       "      <td>not tasty and the texture was just nasty</td>\n",
       "      <td>0</td>\n",
       "    </tr>\n",
       "    <tr>\n",
       "      <th>3</th>\n",
       "      <td>stopped by during the late may bank holiday of...</td>\n",
       "      <td>1</td>\n",
       "    </tr>\n",
       "    <tr>\n",
       "      <th>4</th>\n",
       "      <td>the selection on the menu was great and so wer...</td>\n",
       "      <td>1</td>\n",
       "    </tr>\n",
       "  </tbody>\n",
       "</table>\n",
       "</div>"
      ],
      "text/plain": [
       "                                              Review  Liked\n",
       "0                               wow loved this place      1\n",
       "1                                  crust is not good      0\n",
       "2           not tasty and the texture was just nasty      0\n",
       "3  stopped by during the late may bank holiday of...      1\n",
       "4  the selection on the menu was great and so wer...      1"
      ]
     },
     "execution_count": 46,
     "metadata": {},
     "output_type": "execute_result"
    }
   ],
   "source": [
    "df.head()"
   ]
  },
  {
   "cell_type": "code",
   "execution_count": 47,
   "id": "2157cf6e",
   "metadata": {},
   "outputs": [],
   "source": [
    "X = df.Review.values\n",
    "y = df.Liked.values"
   ]
  },
  {
   "cell_type": "code",
   "execution_count": 48,
   "id": "58ae808b",
   "metadata": {},
   "outputs": [
    {
     "name": "stderr",
     "output_type": "stream",
     "text": [
      "[nltk_data] Downloading package stopwords to\n",
      "[nltk_data]     C:\\Users\\risha\\AppData\\Roaming\\nltk_data...\n",
      "[nltk_data]   Package stopwords is already up-to-date!\n"
     ]
    },
    {
     "data": {
      "text/plain": [
       "True"
      ]
     },
     "execution_count": 48,
     "metadata": {},
     "output_type": "execute_result"
    }
   ],
   "source": [
    "#from nltk.corpus import stopwords\n",
    "import nltk\n",
    "nltk.download('stopwords')"
   ]
  },
  {
   "cell_type": "code",
   "execution_count": null,
   "id": "661a4d0b",
   "metadata": {},
   "outputs": [],
   "source": [
    "#words = stopwords.words('english')"
   ]
  },
  {
   "cell_type": "code",
   "execution_count": null,
   "id": "cf0e38f9",
   "metadata": {},
   "outputs": [],
   "source": [
    "#print(words)"
   ]
  },
  {
   "cell_type": "code",
   "execution_count": null,
   "id": "e2b3244f",
   "metadata": {},
   "outputs": [],
   "source": [
    "#if 'not' in words:\n",
    " #   words.remove('not')"
   ]
  },
  {
   "cell_type": "code",
   "execution_count": 52,
   "id": "ced47e15",
   "metadata": {},
   "outputs": [],
   "source": [
    "#stop.append()"
   ]
  },
  {
   "cell_type": "code",
   "execution_count": 53,
   "id": "e45569ad",
   "metadata": {},
   "outputs": [],
   "source": [
    "from sklearn.model_selection import train_test_split"
   ]
  },
  {
   "cell_type": "code",
   "execution_count": 54,
   "id": "6ceb3d7c",
   "metadata": {},
   "outputs": [],
   "source": [
    "xtrain,xtest,ytrain,ytest = train_test_split(X,y,test_size=.2,random_state=12)"
   ]
  },
  {
   "cell_type": "code",
   "execution_count": 55,
   "id": "e51c69ec",
   "metadata": {},
   "outputs": [],
   "source": [
    "cv = CountVectorizer()"
   ]
  },
  {
   "cell_type": "code",
   "execution_count": 56,
   "id": "8d76edff",
   "metadata": {},
   "outputs": [],
   "source": [
    "cv_train = cv.fit_transform(xtrain)  #for training data\n",
    "\n",
    "cv_test = cv.transform(xtest)        #for testing data"
   ]
  },
  {
   "cell_type": "code",
   "execution_count": 57,
   "id": "402788f2",
   "metadata": {},
   "outputs": [],
   "source": [
    "#cv.get_stop_words()"
   ]
  },
  {
   "cell_type": "code",
   "execution_count": 58,
   "id": "f055d901",
   "metadata": {},
   "outputs": [],
   "source": [
    "#for i in list(cv.get_stop_words()):\n",
    "#    print(i, end=',')"
   ]
  },
  {
   "cell_type": "code",
   "execution_count": 59,
   "id": "6aa51c3d",
   "metadata": {},
   "outputs": [],
   "source": [
    "#if 'not' in list(cv.get_stop_words()):\n",
    " #   print('Yes it exists!')"
   ]
  },
  {
   "cell_type": "code",
   "execution_count": 60,
   "id": "6a5114a7",
   "metadata": {},
   "outputs": [
    {
     "data": {
      "text/plain": [
       "['about',\n",
       " 'above',\n",
       " 'absolute',\n",
       " 'absolutely',\n",
       " 'absolutley',\n",
       " 'accident',\n",
       " 'accommodations',\n",
       " 'accomodate',\n",
       " 'accordingly',\n",
       " 'accountant',\n",
       " 'ache',\n",
       " 'acknowledged',\n",
       " 'across',\n",
       " 'actual',\n",
       " 'actually',\n",
       " 'added',\n",
       " 'affordable',\n",
       " 'after',\n",
       " 'afternoon',\n",
       " 'again',\n",
       " 'ago',\n",
       " 'ahead',\n",
       " 'airline',\n",
       " 'airport',\n",
       " 'ala',\n",
       " 'albondigas',\n",
       " 'all',\n",
       " 'allergy',\n",
       " 'almonds',\n",
       " 'almost',\n",
       " 'alone',\n",
       " 'also',\n",
       " 'although',\n",
       " 'always',\n",
       " 'am',\n",
       " 'amazing',\n",
       " 'ambiance',\n",
       " 'ambience',\n",
       " 'amount',\n",
       " 'ample',\n",
       " 'an',\n",
       " 'and',\n",
       " 'andddd',\n",
       " 'angry',\n",
       " 'annoying',\n",
       " 'another',\n",
       " 'anticipated',\n",
       " 'any',\n",
       " 'anyone',\n",
       " 'anything',\n",
       " 'anytime',\n",
       " 'anyway',\n",
       " 'anyways',\n",
       " 'apart',\n",
       " 'apologize',\n",
       " 'apology',\n",
       " 'app',\n",
       " 'apparently',\n",
       " 'appealing',\n",
       " 'appetite',\n",
       " 'appetizer',\n",
       " 'appetizers',\n",
       " 'apple',\n",
       " 'approval',\n",
       " 'are',\n",
       " 'area',\n",
       " 'aren',\n",
       " 'arepas',\n",
       " 'around',\n",
       " 'array',\n",
       " 'arrived',\n",
       " 'arrives',\n",
       " 'arriving',\n",
       " 'article',\n",
       " 'as',\n",
       " 'ask',\n",
       " 'asked',\n",
       " 'asking',\n",
       " 'assure',\n",
       " 'at',\n",
       " 'ate',\n",
       " 'atmosphere',\n",
       " 'attack',\n",
       " 'attention',\n",
       " 'attentive',\n",
       " 'attitudes',\n",
       " 'auju',\n",
       " 'authentic',\n",
       " 'average',\n",
       " 'avocado',\n",
       " 'avoid',\n",
       " 'avoided',\n",
       " 'away',\n",
       " 'awesome',\n",
       " 'awful',\n",
       " 'awkwardly',\n",
       " 'ayce',\n",
       " 'baba',\n",
       " 'baby',\n",
       " 'bachi',\n",
       " 'back',\n",
       " 'bacon',\n",
       " 'bad',\n",
       " 'bagels',\n",
       " 'bakery',\n",
       " 'baklava',\n",
       " 'ball',\n",
       " 'bamboo',\n",
       " 'banana',\n",
       " 'bar',\n",
       " 'barely',\n",
       " 'bargain',\n",
       " 'bars',\n",
       " 'bartender',\n",
       " 'bartenders',\n",
       " 'based',\n",
       " 'basically',\n",
       " 'bathroom',\n",
       " 'bathrooms',\n",
       " 'batter',\n",
       " 'bay',\n",
       " 'bbq',\n",
       " 'be',\n",
       " 'bean',\n",
       " 'beans',\n",
       " 'beat',\n",
       " 'beateous',\n",
       " 'beautiful',\n",
       " 'beautifully',\n",
       " 'beauty',\n",
       " 'because',\n",
       " 'become',\n",
       " 'beef',\n",
       " 'been',\n",
       " 'beer',\n",
       " 'beers',\n",
       " 'before',\n",
       " 'begin',\n",
       " 'behind',\n",
       " 'being',\n",
       " 'believe',\n",
       " 'bellagio',\n",
       " 'bellies',\n",
       " 'below',\n",
       " 'best',\n",
       " 'better',\n",
       " 'between',\n",
       " 'beyond',\n",
       " 'big',\n",
       " 'bigger',\n",
       " 'bill',\n",
       " 'biscuit',\n",
       " 'biscuits',\n",
       " 'bisque',\n",
       " 'bit',\n",
       " 'bitches',\n",
       " 'bite',\n",
       " 'bites',\n",
       " 'bits',\n",
       " 'black',\n",
       " 'blah',\n",
       " 'bland',\n",
       " 'blanket',\n",
       " 'block',\n",
       " 'bloody',\n",
       " 'blow',\n",
       " 'blown',\n",
       " 'blows',\n",
       " 'blue',\n",
       " 'boba',\n",
       " 'bodes',\n",
       " 'boiled',\n",
       " 'bone',\n",
       " 'boot',\n",
       " 'boring',\n",
       " 'both',\n",
       " 'bother',\n",
       " 'bottom',\n",
       " 'bouchon',\n",
       " 'bought',\n",
       " 'bowl',\n",
       " 'box',\n",
       " 'boy',\n",
       " 'boyfriend',\n",
       " 'boys',\n",
       " 'bread',\n",
       " 'break',\n",
       " 'breakfast',\n",
       " 'brick',\n",
       " 'bring',\n",
       " 'brings',\n",
       " 'brother',\n",
       " 'brought',\n",
       " 'brownish',\n",
       " 'brunch',\n",
       " 'bruschetta',\n",
       " 'brushfire',\n",
       " 'bucks',\n",
       " 'buffet',\n",
       " 'buffets',\n",
       " 'bug',\n",
       " 'building',\n",
       " 'buldogis',\n",
       " 'bunch',\n",
       " 'burger',\n",
       " 'burgers',\n",
       " 'burrittos',\n",
       " 'business',\n",
       " 'businesses',\n",
       " 'bussell',\n",
       " 'busy',\n",
       " 'but',\n",
       " 'butter',\n",
       " 'by',\n",
       " 'bye',\n",
       " 'caballero',\n",
       " 'caesar',\n",
       " 'cafe',\n",
       " 'cake',\n",
       " 'cakes',\n",
       " 'call',\n",
       " 'calligraphy',\n",
       " 'callings',\n",
       " 'came',\n",
       " 'camelback',\n",
       " 'can',\n",
       " 'cannoli',\n",
       " 'cannot',\n",
       " 'cant',\n",
       " 'cape',\n",
       " 'capers',\n",
       " 'car',\n",
       " 'care',\n",
       " 'carly',\n",
       " 'cart',\n",
       " 'cartel',\n",
       " 'cash',\n",
       " 'cashew',\n",
       " 'casino',\n",
       " 'caterpillar',\n",
       " 'caught',\n",
       " 'cause',\n",
       " 'cavier',\n",
       " 'certainly',\n",
       " 'chai',\n",
       " 'chains',\n",
       " 'changing',\n",
       " 'char',\n",
       " 'charcoal',\n",
       " 'charge',\n",
       " 'charged',\n",
       " 'charming',\n",
       " 'cheap',\n",
       " 'check',\n",
       " 'checked',\n",
       " 'cheek',\n",
       " 'cheese',\n",
       " 'cheeseburger',\n",
       " 'cheesecurds',\n",
       " 'chef',\n",
       " 'chewy',\n",
       " 'chicken',\n",
       " 'chickens',\n",
       " 'chinese',\n",
       " 'chip',\n",
       " 'chipolte',\n",
       " 'chipotle',\n",
       " 'chips',\n",
       " 'chocolate',\n",
       " 'choose',\n",
       " 'choux',\n",
       " 'chow',\n",
       " 'cibo',\n",
       " 'circumstances',\n",
       " 'claimed',\n",
       " 'class',\n",
       " 'classic',\n",
       " 'classics',\n",
       " 'clean',\n",
       " 'climbing',\n",
       " 'close',\n",
       " 'closed',\n",
       " 'club',\n",
       " 'clue',\n",
       " 'cocktail',\n",
       " 'cocktails',\n",
       " 'cod',\n",
       " 'coffee',\n",
       " 'cold',\n",
       " 'college',\n",
       " 'color',\n",
       " 'combination',\n",
       " 'combo',\n",
       " 'combos',\n",
       " 'come',\n",
       " 'comfortable',\n",
       " 'coming',\n",
       " 'common',\n",
       " 'companions',\n",
       " 'company',\n",
       " 'complain',\n",
       " 'complaints',\n",
       " 'complete',\n",
       " 'completely',\n",
       " 'compliments',\n",
       " 'concept',\n",
       " 'concern',\n",
       " 'conclusion',\n",
       " 'condiment',\n",
       " 'connisseur',\n",
       " 'connoisseur',\n",
       " 'considering',\n",
       " 'consistent',\n",
       " 'constructed',\n",
       " 'contain',\n",
       " 'contained',\n",
       " 'continue',\n",
       " 'convenient',\n",
       " 'cook',\n",
       " 'cooked',\n",
       " 'cooking',\n",
       " 'cool',\n",
       " 'corn',\n",
       " 'corporation',\n",
       " 'correct',\n",
       " 'correction',\n",
       " 'cost',\n",
       " 'cotta',\n",
       " 'could',\n",
       " 'couldn',\n",
       " 'count',\n",
       " 'couple',\n",
       " 'couples',\n",
       " 'coupons',\n",
       " 'course',\n",
       " 'court',\n",
       " 'courteous',\n",
       " 'cover',\n",
       " 'covered',\n",
       " 'covers',\n",
       " 'cow',\n",
       " 'crab',\n",
       " 'cranberry',\n",
       " 'craving',\n",
       " 'crazy',\n",
       " 'cream',\n",
       " 'creamy',\n",
       " 'crispy',\n",
       " 'crostini',\n",
       " 'croutons',\n",
       " 'crowd',\n",
       " 'crowds',\n",
       " 'crumby',\n",
       " 'crust',\n",
       " 'crusty',\n",
       " 'curry',\n",
       " 'customer',\n",
       " 'customers',\n",
       " 'customize',\n",
       " 'cut',\n",
       " 'cute',\n",
       " 'daily',\n",
       " 'damn',\n",
       " 'dark',\n",
       " 'date',\n",
       " 'dates',\n",
       " 'daughter',\n",
       " 'day',\n",
       " 'dead',\n",
       " 'deal',\n",
       " 'dealing',\n",
       " 'decent',\n",
       " 'decide',\n",
       " 'decided',\n",
       " 'decision',\n",
       " 'decor',\n",
       " 'decorated',\n",
       " 'dedicated',\n",
       " 'deeply',\n",
       " 'def',\n",
       " 'definately',\n",
       " 'definitely',\n",
       " 'del',\n",
       " 'delicioso',\n",
       " 'delicious',\n",
       " 'deliciously',\n",
       " 'delight',\n",
       " 'delightful',\n",
       " 'delights',\n",
       " 'delish',\n",
       " 'deliver',\n",
       " 'delivery',\n",
       " 'denny',\n",
       " 'describing',\n",
       " 'descriptions',\n",
       " 'deserves',\n",
       " 'despite',\n",
       " 'dessert',\n",
       " 'desserts',\n",
       " 'deuchebaggery',\n",
       " 'devine',\n",
       " 'did',\n",
       " 'didn',\n",
       " 'die',\n",
       " 'difference',\n",
       " 'different',\n",
       " 'dime',\n",
       " 'dine',\n",
       " 'dining',\n",
       " 'dinner',\n",
       " 'dipping',\n",
       " 'dirt',\n",
       " 'dirty',\n",
       " 'disagree',\n",
       " 'disappoint',\n",
       " 'disappointed',\n",
       " 'disappointing',\n",
       " 'disappointment',\n",
       " 'disapppointment',\n",
       " 'disaster',\n",
       " 'disbelief',\n",
       " 'discount',\n",
       " 'disgraceful',\n",
       " 'disgust',\n",
       " 'disgusted',\n",
       " 'disgusting',\n",
       " 'dish',\n",
       " 'dishes',\n",
       " 'dispenser',\n",
       " 'disrespected',\n",
       " 'diverse',\n",
       " 'do',\n",
       " 'does',\n",
       " 'dog',\n",
       " 'doing',\n",
       " 'don',\n",
       " 'done',\n",
       " 'dont',\n",
       " 'donut',\n",
       " 'door',\n",
       " 'dos',\n",
       " 'double',\n",
       " 'douchey',\n",
       " 'down',\n",
       " 'downtown',\n",
       " 'drag',\n",
       " 'drastically',\n",
       " 'drawing',\n",
       " 'dreamed',\n",
       " 'drenched',\n",
       " 'dressed',\n",
       " 'dressing',\n",
       " 'dried',\n",
       " 'driest',\n",
       " 'drink',\n",
       " 'drinks',\n",
       " 'drive',\n",
       " 'driving',\n",
       " 'dropped',\n",
       " 'drunk',\n",
       " 'dry',\n",
       " 'duck',\n",
       " 'dude',\n",
       " 'due',\n",
       " 'duo',\n",
       " 'during',\n",
       " 'dusted',\n",
       " 'dylan',\n",
       " 'each',\n",
       " 'easily',\n",
       " 'eat',\n",
       " 'eaten',\n",
       " 'eating',\n",
       " 'ed',\n",
       " 'edible',\n",
       " 'edinburgh',\n",
       " 'eel',\n",
       " 'eew',\n",
       " 'efficient',\n",
       " 'effort',\n",
       " 'egg',\n",
       " 'eggplant',\n",
       " 'eggs',\n",
       " 'either',\n",
       " 'elegantly',\n",
       " 'elk',\n",
       " 'else',\n",
       " 'elsewhere',\n",
       " 'email',\n",
       " 'employee',\n",
       " 'employees',\n",
       " 'empty',\n",
       " 'end',\n",
       " 'ended',\n",
       " 'enjoy',\n",
       " 'enjoyable',\n",
       " 'enjoyed',\n",
       " 'enough',\n",
       " 'ensued',\n",
       " 'enthusiastic',\n",
       " 'entrees',\n",
       " 'equally',\n",
       " 'especially',\n",
       " 'establishment',\n",
       " 'etc',\n",
       " 'ethic',\n",
       " 'even',\n",
       " 'evening',\n",
       " 'event',\n",
       " 'events',\n",
       " 'ever',\n",
       " 'every',\n",
       " 'everyone',\n",
       " 'everything',\n",
       " 'exactly',\n",
       " 'excalibur',\n",
       " 'exceeding',\n",
       " 'excellent',\n",
       " 'exceptional',\n",
       " 'excuse',\n",
       " 'expect',\n",
       " 'expectations',\n",
       " 'expected',\n",
       " 'experience',\n",
       " 'experienced',\n",
       " 'experiencing',\n",
       " 'expert',\n",
       " 'exquisite',\n",
       " 'extensive',\n",
       " 'extra',\n",
       " 'extraordinary',\n",
       " 'extremely',\n",
       " 'eyes',\n",
       " 'fabulous',\n",
       " 'fact',\n",
       " 'fail',\n",
       " 'fails',\n",
       " 'fair',\n",
       " 'fairly',\n",
       " 'falafels',\n",
       " 'falling',\n",
       " 'familiar',\n",
       " 'family',\n",
       " 'famous',\n",
       " 'fan',\n",
       " 'fancy',\n",
       " 'fantastic',\n",
       " 'far',\n",
       " 'fare',\n",
       " 'fast',\n",
       " 'favor',\n",
       " 'favorite',\n",
       " 'fear',\n",
       " 'feel',\n",
       " 'feeling',\n",
       " 'feels',\n",
       " 'fell',\n",
       " 'fella',\n",
       " 'fellow',\n",
       " 'felt',\n",
       " 'few',\n",
       " 'fianc',\n",
       " 'figured',\n",
       " 'filet',\n",
       " 'filling',\n",
       " 'final',\n",
       " 'finally',\n",
       " 'find',\n",
       " 'fine',\n",
       " 'finish',\n",
       " 'fireball',\n",
       " 'firehouse',\n",
       " 'first',\n",
       " 'fish',\n",
       " 'five',\n",
       " 'flair',\n",
       " 'flat',\n",
       " 'flavor',\n",
       " 'flavored',\n",
       " 'flavorful',\n",
       " 'flavorless',\n",
       " 'flavors',\n",
       " 'flavourful',\n",
       " 'flirting',\n",
       " 'flop',\n",
       " 'flower',\n",
       " 'fluffy',\n",
       " 'fly',\n",
       " 'fo',\n",
       " 'focused',\n",
       " 'folks',\n",
       " 'fondue',\n",
       " 'food',\n",
       " 'foods',\n",
       " 'foot',\n",
       " 'for',\n",
       " 'forever',\n",
       " 'forgetting',\n",
       " 'forth',\n",
       " 'forty',\n",
       " 'forward',\n",
       " 'found',\n",
       " 'four',\n",
       " 'freaking',\n",
       " 'free',\n",
       " 'freezing',\n",
       " 'frenchman',\n",
       " 'fresh',\n",
       " 'fridays',\n",
       " 'fried',\n",
       " 'friend',\n",
       " 'friendly',\n",
       " 'friends',\n",
       " 'fries',\n",
       " 'from',\n",
       " 'front',\n",
       " 'frozen',\n",
       " 'fruit',\n",
       " 'frustrated',\n",
       " 'fry',\n",
       " 'fs',\n",
       " 'fucking',\n",
       " 'full',\n",
       " 'fun',\n",
       " 'funny',\n",
       " 'further',\n",
       " 'fuzzy',\n",
       " 'ganoush',\n",
       " 'garden',\n",
       " 'garlic',\n",
       " 'gave',\n",
       " 'gc',\n",
       " 'gem',\n",
       " 'generic',\n",
       " 'generous',\n",
       " 'genuinely',\n",
       " 'get',\n",
       " 'gets',\n",
       " 'getting',\n",
       " 'giant',\n",
       " 'girlfriend',\n",
       " 'give',\n",
       " 'given',\n",
       " 'glad',\n",
       " 'glass',\n",
       " 'gluten',\n",
       " 'go',\n",
       " 'goat',\n",
       " 'godfathers',\n",
       " 'going',\n",
       " 'gold',\n",
       " 'gone',\n",
       " 'good',\n",
       " 'google',\n",
       " 'gooodd',\n",
       " 'gordon',\n",
       " 'got',\n",
       " 'gotten',\n",
       " 'gourmet',\n",
       " 'grab',\n",
       " 'grain',\n",
       " 'grandmother',\n",
       " 'gratitude',\n",
       " 'gratuity',\n",
       " 'grease',\n",
       " 'greasy',\n",
       " 'great',\n",
       " 'greatest',\n",
       " 'greedy',\n",
       " 'greek',\n",
       " 'green',\n",
       " 'greens',\n",
       " 'greeted',\n",
       " 'grill',\n",
       " 'grilled',\n",
       " 'gringos',\n",
       " 'grocery',\n",
       " 'gross',\n",
       " 'grossed',\n",
       " 'group',\n",
       " 'groups',\n",
       " 'guacamole',\n",
       " 'guess',\n",
       " 'guest',\n",
       " 'guests',\n",
       " 'guy',\n",
       " 'guys',\n",
       " 'gyros',\n",
       " 'ha',\n",
       " 'had',\n",
       " 'hadn',\n",
       " 'hair',\n",
       " 'half',\n",
       " 'halibut',\n",
       " 'han',\n",
       " 'hand',\n",
       " 'handed',\n",
       " 'handled',\n",
       " 'handling',\n",
       " 'handmade',\n",
       " 'hands',\n",
       " 'happened',\n",
       " 'happier',\n",
       " 'happy',\n",
       " 'hard',\n",
       " 'hardest',\n",
       " 'hardly',\n",
       " 'has',\n",
       " 'hasn',\n",
       " 'hate',\n",
       " 'haunt',\n",
       " 'have',\n",
       " 'haven',\n",
       " 'having',\n",
       " 'he',\n",
       " 'head',\n",
       " 'heads',\n",
       " 'healthy',\n",
       " 'heard',\n",
       " 'heart',\n",
       " 'hearts',\n",
       " 'heat',\n",
       " 'heimer',\n",
       " 'held',\n",
       " 'hell',\n",
       " 'hella',\n",
       " 'help',\n",
       " 'helped',\n",
       " 'helpful',\n",
       " 'her',\n",
       " 'here',\n",
       " 'hereas',\n",
       " 'hi',\n",
       " 'high',\n",
       " 'highlight',\n",
       " 'highlighted',\n",
       " 'highlights',\n",
       " 'highly',\n",
       " 'him',\n",
       " 'hiro',\n",
       " 'his',\n",
       " 'hit',\n",
       " 'hits',\n",
       " 'hole',\n",
       " 'home',\n",
       " 'homemade',\n",
       " 'honeslty',\n",
       " 'honest',\n",
       " 'honestly',\n",
       " 'honor',\n",
       " 'hooked',\n",
       " 'hope',\n",
       " 'hopefully',\n",
       " 'hopes',\n",
       " 'hoping',\n",
       " 'horrible',\n",
       " 'hospitality',\n",
       " 'host',\n",
       " 'hostess',\n",
       " 'hot',\n",
       " 'hottest',\n",
       " 'hour',\n",
       " 'hours',\n",
       " 'house',\n",
       " 'how',\n",
       " 'however',\n",
       " 'huevos',\n",
       " 'huge',\n",
       " 'human',\n",
       " 'humiliated',\n",
       " 'hummus',\n",
       " 'hunan',\n",
       " 'hungry',\n",
       " 'hurry',\n",
       " 'husband',\n",
       " 'hut',\n",
       " 'ians',\n",
       " 'ice',\n",
       " 'iced',\n",
       " 'if',\n",
       " 'ignore',\n",
       " 'ignored',\n",
       " 'imagination',\n",
       " 'imaginative',\n",
       " 'imagine',\n",
       " 'imagined',\n",
       " 'immediately',\n",
       " 'impeccable',\n",
       " 'impressed',\n",
       " 'impressive',\n",
       " 'in',\n",
       " 'inch',\n",
       " 'included',\n",
       " 'including',\n",
       " 'inconsiderate',\n",
       " 'incredible',\n",
       " 'incredibly',\n",
       " 'indicate',\n",
       " 'indoor',\n",
       " 'industry',\n",
       " 'inexpensive',\n",
       " 'informative',\n",
       " 'ingredients',\n",
       " 'insanely',\n",
       " 'inside',\n",
       " 'inspired',\n",
       " 'instantly',\n",
       " 'instead',\n",
       " 'insulted',\n",
       " 'insults',\n",
       " 'interesting',\n",
       " 'into',\n",
       " 'inviting',\n",
       " 'ironman',\n",
       " 'is',\n",
       " 'isn',\n",
       " 'it',\n",
       " 'italian',\n",
       " 'its',\n",
       " 'itself',\n",
       " 'jalapeno',\n",
       " 'jamaican',\n",
       " 'japanese',\n",
       " 'jeff',\n",
       " 'jenni',\n",
       " 'jerk',\n",
       " 'jewel',\n",
       " 'job',\n",
       " 'joey',\n",
       " 'join',\n",
       " 'joint',\n",
       " 'joke',\n",
       " 'joy',\n",
       " 'judge',\n",
       " 'judging',\n",
       " 'juice',\n",
       " 'juries',\n",
       " 'just',\n",
       " 'kept',\n",
       " 'key',\n",
       " 'khao',\n",
       " 'kids',\n",
       " 'killer',\n",
       " 'kind',\n",
       " 'kitchen',\n",
       " 'know',\n",
       " 'known',\n",
       " 'lack',\n",
       " 'lacked',\n",
       " 'lacking',\n",
       " 'ladies',\n",
       " 'lady',\n",
       " 'large',\n",
       " 'largely',\n",
       " 'larger',\n",
       " 'las',\n",
       " 'last',\n",
       " 'lastly',\n",
       " 'late',\n",
       " 'later',\n",
       " 'latte',\n",
       " 'law',\n",
       " 'lawyers',\n",
       " 'least',\n",
       " 'leather',\n",
       " 'leave',\n",
       " 'left',\n",
       " 'leftover',\n",
       " 'legit',\n",
       " 'legs',\n",
       " 'lemon',\n",
       " 'let',\n",
       " 'letdown',\n",
       " 'letting',\n",
       " 'level',\n",
       " 'life',\n",
       " 'light',\n",
       " 'lighter',\n",
       " 'lighting',\n",
       " 'lightly',\n",
       " 'like',\n",
       " 'liked',\n",
       " 'liking',\n",
       " 'lil',\n",
       " 'limited',\n",
       " 'lined',\n",
       " 'list',\n",
       " 'listed',\n",
       " 'literally',\n",
       " 'little',\n",
       " 'live',\n",
       " 'lived',\n",
       " 'living',\n",
       " 'll',\n",
       " 'lobster',\n",
       " 'location',\n",
       " 'long',\n",
       " 'longer',\n",
       " 'look',\n",
       " 'looked',\n",
       " 'looking',\n",
       " 'lordy',\n",
       " 'lost',\n",
       " 'lot',\n",
       " 'lots',\n",
       " 'loudly',\n",
       " 'love',\n",
       " 'loved',\n",
       " 'lovely',\n",
       " 'lover',\n",
       " 'lovers',\n",
       " 'loves',\n",
       " 'loving',\n",
       " 'low',\n",
       " 'lox',\n",
       " 'loyal',\n",
       " 'luck',\n",
       " 'luke',\n",
       " 'lukewarm',\n",
       " 'lunch',\n",
       " 'mac',\n",
       " 'macarons',\n",
       " 'made',\n",
       " 'madison',\n",
       " 'magazine',\n",
       " 'main',\n",
       " 'maine',\n",
       " 'make',\n",
       " 'making',\n",
       " 'mall',\n",
       " 'man',\n",
       " 'management',\n",
       " 'manager',\n",
       " 'many',\n",
       " 'margaritas',\n",
       " 'market',\n",
       " 'marrow',\n",
       " 'martini',\n",
       " 'mary',\n",
       " 'massive',\n",
       " 'may',\n",
       " 'maybe',\n",
       " 'mayo',\n",
       " 'me',\n",
       " 'meal',\n",
       " 'meals',\n",
       " 'mean',\n",
       " 'means',\n",
       " 'meat',\n",
       " 'meatballs',\n",
       " 'meatloaf',\n",
       " 'meats',\n",
       " 'mediocre',\n",
       " 'mediterranean',\n",
       " 'meet',\n",
       " 'meh',\n",
       " 'mein',\n",
       " 'mellow',\n",
       " 'melt',\n",
       " 'melted',\n",
       " 'memory',\n",
       " 'mention',\n",
       " 'menu',\n",
       " 'menus',\n",
       " 'mesquite',\n",
       " 'mess',\n",
       " 'metro',\n",
       " 'mexican',\n",
       " 'mid',\n",
       " 'middle',\n",
       " 'might',\n",
       " 'mile',\n",
       " 'military',\n",
       " 'milk',\n",
       " 'milkshake',\n",
       " 'min',\n",
       " 'mind',\n",
       " 'minutes',\n",
       " 'mirage',\n",
       " 'miss',\n",
       " 'missed',\n",
       " 'missing',\n",
       " 'mistake',\n",
       " 'mixed',\n",
       " 'mmmm',\n",
       " 'moist',\n",
       " 'mojitos',\n",
       " 'mom',\n",
       " 'money',\n",
       " 'monster',\n",
       " 'months',\n",
       " 'mood',\n",
       " 'moods',\n",
       " 'more',\n",
       " 'mortified',\n",
       " 'most',\n",
       " 'mouth',\n",
       " 'mouthful',\n",
       " 'mouths',\n",
       " 'movies',\n",
       " ...]"
      ]
     },
     "execution_count": 60,
     "metadata": {},
     "output_type": "execute_result"
    }
   ],
   "source": [
    "cv.get_feature_names()"
   ]
  },
  {
   "cell_type": "code",
   "execution_count": 61,
   "id": "55ec21d7",
   "metadata": {},
   "outputs": [
    {
     "data": {
      "text/plain": [
       "(800, 1776)"
      ]
     },
     "execution_count": 61,
     "metadata": {},
     "output_type": "execute_result"
    }
   ],
   "source": [
    "cv_train.shape"
   ]
  },
  {
   "cell_type": "code",
   "execution_count": 62,
   "id": "873624a3",
   "metadata": {},
   "outputs": [
    {
     "data": {
      "text/plain": [
       "1776"
      ]
     },
     "execution_count": 62,
     "metadata": {},
     "output_type": "execute_result"
    }
   ],
   "source": [
    "len(cv.get_feature_names())"
   ]
  },
  {
   "cell_type": "code",
   "execution_count": 63,
   "id": "64dfa2c4",
   "metadata": {},
   "outputs": [],
   "source": [
    "from sklearn.linear_model import LogisticRegression\n",
    "#from sklearn.metrics import accuracy_score"
   ]
  },
  {
   "cell_type": "code",
   "execution_count": 64,
   "id": "fba45da4",
   "metadata": {},
   "outputs": [],
   "source": [
    "log = LogisticRegression()"
   ]
  },
  {
   "cell_type": "code",
   "execution_count": 65,
   "id": "f22aa933",
   "metadata": {},
   "outputs": [
    {
     "data": {
      "text/plain": [
       "0.78"
      ]
     },
     "execution_count": 65,
     "metadata": {},
     "output_type": "execute_result"
    }
   ],
   "source": [
    "log.fit(cv_train,ytrain)\n",
    "\n",
    "pred = log.predict(cv_test)\n",
    "\n",
    "#score = accuracy_score(ytest,pred)\n",
    "#score\n",
    "score = log.score(cv_test,ytest)\n",
    "score"
   ]
  },
  {
   "cell_type": "code",
   "execution_count": 66,
   "id": "df254795",
   "metadata": {},
   "outputs": [
    {
     "data": {
      "text/plain": [
       "array([0, 0, 1, 1, 1, 0, 0, 0, 1, 1, 1, 1, 0, 0, 1, 1, 1, 1, 0, 1, 0, 1,\n",
       "       1, 0, 1, 1, 0, 1, 0, 0, 0, 0, 0, 0, 0, 0, 1, 1, 1, 1, 1, 0, 0, 0,\n",
       "       1, 0, 0, 1, 1, 0, 0, 1, 0, 0, 0, 1, 1, 1, 1, 1, 0, 1, 1, 1, 0, 1,\n",
       "       0, 1, 1, 0, 0, 1, 1, 1, 1, 1, 0, 1, 1, 1, 1, 0, 1, 1, 0, 0, 0, 1,\n",
       "       1, 1, 0, 1, 0, 0, 0, 1, 0, 1, 0, 0, 0, 1, 1, 1, 1, 1, 0, 0, 1, 1,\n",
       "       1, 0, 0, 1, 0, 1, 1, 1, 1, 0, 1, 1, 1, 0, 1, 0, 1, 1, 1, 0, 0, 0,\n",
       "       1, 0, 0, 0, 1, 0, 0, 0, 1, 0, 0, 0, 1, 1, 1, 1, 0, 0, 0, 0, 0, 1,\n",
       "       0, 0, 0, 0, 1, 0, 1, 1, 1, 0, 1, 1, 1, 0, 0, 1, 1, 0, 1, 1, 1, 1,\n",
       "       1, 0, 0, 1, 1, 1, 0, 1, 0, 0, 0, 1, 1, 0, 1, 1, 1, 0, 0, 1, 1, 0,\n",
       "       1, 1], dtype=int64)"
      ]
     },
     "execution_count": 66,
     "metadata": {},
     "output_type": "execute_result"
    }
   ],
   "source": [
    "pred"
   ]
  },
  {
   "cell_type": "code",
   "execution_count": 67,
   "id": "49647ae5",
   "metadata": {},
   "outputs": [],
   "source": [
    "test = ['food was 123@#$ good']"
   ]
  },
  {
   "cell_type": "code",
   "execution_count": 68,
   "id": "5aefa94c",
   "metadata": {},
   "outputs": [],
   "source": [
    "cleaned_data=[]\n",
    "\n",
    "for i in test:\n",
    "    t = clean(i)\n",
    "    cleaned_data.append(t)"
   ]
  },
  {
   "cell_type": "code",
   "execution_count": 69,
   "id": "09e57282",
   "metadata": {},
   "outputs": [
    {
     "data": {
      "text/plain": [
       "['food was good']"
      ]
     },
     "execution_count": 69,
     "metadata": {},
     "output_type": "execute_result"
    }
   ],
   "source": [
    "cleaned_data"
   ]
  },
  {
   "cell_type": "code",
   "execution_count": 70,
   "id": "02787de8",
   "metadata": {},
   "outputs": [],
   "source": [
    "t1 = cv.transform(cleaned_data)"
   ]
  },
  {
   "cell_type": "code",
   "execution_count": 71,
   "id": "57a11e01",
   "metadata": {},
   "outputs": [
    {
     "data": {
      "text/plain": [
       "(1, 1776)"
      ]
     },
     "execution_count": 71,
     "metadata": {},
     "output_type": "execute_result"
    }
   ],
   "source": [
    "t1.shape"
   ]
  },
  {
   "cell_type": "code",
   "execution_count": 72,
   "id": "5afc052c",
   "metadata": {},
   "outputs": [
    {
     "data": {
      "text/plain": [
       "array([1], dtype=int64)"
      ]
     },
     "execution_count": 72,
     "metadata": {},
     "output_type": "execute_result"
    }
   ],
   "source": [
    "log.predict(t1)"
   ]
  },
  {
   "cell_type": "code",
   "execution_count": 73,
   "id": "40882f89",
   "metadata": {},
   "outputs": [],
   "source": [
    "########################################### 2 Way : Importing a text file and performing extraction ##########################"
   ]
  },
  {
   "cell_type": "code",
   "execution_count": 74,
   "id": "148c798e",
   "metadata": {},
   "outputs": [],
   "source": [
    "from sklearn.feature_extraction.text import CountVectorizer\n",
    "\n",
    "import pandas as pd"
   ]
  },
  {
   "cell_type": "code",
   "execution_count": 75,
   "id": "3a82fb78",
   "metadata": {},
   "outputs": [],
   "source": [
    "df =pd.read_csv('IMDB Dataset.csv')"
   ]
  },
  {
   "cell_type": "code",
   "execution_count": 76,
   "id": "1396cfe8",
   "metadata": {},
   "outputs": [
    {
     "data": {
      "text/html": [
       "<div>\n",
       "<style scoped>\n",
       "    .dataframe tbody tr th:only-of-type {\n",
       "        vertical-align: middle;\n",
       "    }\n",
       "\n",
       "    .dataframe tbody tr th {\n",
       "        vertical-align: top;\n",
       "    }\n",
       "\n",
       "    .dataframe thead th {\n",
       "        text-align: right;\n",
       "    }\n",
       "</style>\n",
       "<table border=\"1\" class=\"dataframe\">\n",
       "  <thead>\n",
       "    <tr style=\"text-align: right;\">\n",
       "      <th></th>\n",
       "      <th>review</th>\n",
       "      <th>sentiment</th>\n",
       "    </tr>\n",
       "  </thead>\n",
       "  <tbody>\n",
       "    <tr>\n",
       "      <th>0</th>\n",
       "      <td>One of the other reviewers has mentioned that ...</td>\n",
       "      <td>positive</td>\n",
       "    </tr>\n",
       "    <tr>\n",
       "      <th>1</th>\n",
       "      <td>A wonderful little production. &lt;br /&gt;&lt;br /&gt;The...</td>\n",
       "      <td>positive</td>\n",
       "    </tr>\n",
       "    <tr>\n",
       "      <th>2</th>\n",
       "      <td>I thought this was a wonderful way to spend ti...</td>\n",
       "      <td>positive</td>\n",
       "    </tr>\n",
       "    <tr>\n",
       "      <th>3</th>\n",
       "      <td>Basically there's a family where a little boy ...</td>\n",
       "      <td>negative</td>\n",
       "    </tr>\n",
       "    <tr>\n",
       "      <th>4</th>\n",
       "      <td>Petter Mattei's \"Love in the Time of Money\" is...</td>\n",
       "      <td>positive</td>\n",
       "    </tr>\n",
       "  </tbody>\n",
       "</table>\n",
       "</div>"
      ],
      "text/plain": [
       "                                              review sentiment\n",
       "0  One of the other reviewers has mentioned that ...  positive\n",
       "1  A wonderful little production. <br /><br />The...  positive\n",
       "2  I thought this was a wonderful way to spend ti...  positive\n",
       "3  Basically there's a family where a little boy ...  negative\n",
       "4  Petter Mattei's \"Love in the Time of Money\" is...  positive"
      ]
     },
     "execution_count": 76,
     "metadata": {},
     "output_type": "execute_result"
    }
   ],
   "source": [
    "df.head()"
   ]
  },
  {
   "cell_type": "code",
   "execution_count": 77,
   "id": "5fc2657f",
   "metadata": {},
   "outputs": [
    {
     "data": {
      "text/plain": [
       "'Petter Mattei\\'s \"Love in the Time of Money\" is a visually stunning film to watch. Mr. Mattei offers us a vivid portrait about human relations. This is a movie that seems to be telling us what money, power and success do to people in the different situations we encounter. <br /><br />This being a variation on the Arthur Schnitzler\\'s play about the same theme, the director transfers the action to the present time New York where all these different characters meet and connect. Each one is connected in one way, or another to the next person, but no one seems to know the previous point of contact. Stylishly, the film has a sophisticated luxurious look. We are taken to see how these people live and the world they live in their own habitat.<br /><br />The only thing one gets out of all these souls in the picture is the different stages of loneliness each one inhabits. A big city is not exactly the best place in which human relations find sincere fulfillment, as one discerns is the case with most of the people we encounter.<br /><br />The acting is good under Mr. Mattei\\'s direction. Steve Buscemi, Rosario Dawson, Carol Kane, Michael Imperioli, Adrian Grenier, and the rest of the talented cast, make these characters come alive.<br /><br />We wish Mr. Mattei good luck and await anxiously for his next work.'"
      ]
     },
     "execution_count": 77,
     "metadata": {},
     "output_type": "execute_result"
    }
   ],
   "source": [
    "df.iloc[4,0]"
   ]
  },
  {
   "cell_type": "code",
   "execution_count": 78,
   "id": "ebbb56d8",
   "metadata": {},
   "outputs": [
    {
     "data": {
      "text/plain": [
       "(50000, 2)"
      ]
     },
     "execution_count": 78,
     "metadata": {},
     "output_type": "execute_result"
    }
   ],
   "source": [
    "df.shape"
   ]
  },
  {
   "cell_type": "code",
   "execution_count": 79,
   "id": "449e59c1",
   "metadata": {},
   "outputs": [
    {
     "data": {
      "text/plain": [
       "positive    25000\n",
       "negative    25000\n",
       "Name: sentiment, dtype: int64"
      ]
     },
     "execution_count": 79,
     "metadata": {},
     "output_type": "execute_result"
    }
   ],
   "source": [
    "df.sentiment.value_counts()"
   ]
  },
  {
   "cell_type": "code",
   "execution_count": 80,
   "id": "5ca1aaac",
   "metadata": {},
   "outputs": [],
   "source": [
    "import re"
   ]
  },
  {
   "cell_type": "code",
   "execution_count": 81,
   "id": "48894b1f",
   "metadata": {},
   "outputs": [],
   "source": [
    "def clean(x):\n",
    "    \n",
    "    #remove all html tags from data\n",
    "    #remove all numbers from data\n",
    "    #remove all special chars from data\n",
    "    #remove stop words\n",
    "    #stemming\n",
    "    #lemmitization\n",
    "    #etc..\n",
    "    \n",
    "    s = re.sub('<.*?>',' ',x) #remove html tags\n",
    "    \n",
    "    s = re.sub('[^A-Za-z]',' ',s)  \n",
    "    #to replace everything except A-Z or a-z with ' '(single space)\n",
    "    \n",
    "    s = re.sub('\\s+',' ',s)       \n",
    "    #to replace more than one space's with single space only\n",
    "    \n",
    "    s = s.strip()    \n",
    "    #remove spaces from either from beginning or end of string\n",
    "    \n",
    "    return s.lower()    #return string in lower case"
   ]
  },
  {
   "cell_type": "code",
   "execution_count": 82,
   "id": "1e99779b",
   "metadata": {},
   "outputs": [],
   "source": [
    "df['review'] = df.review.apply(clean)"
   ]
  },
  {
   "cell_type": "code",
   "execution_count": 83,
   "id": "33f51011",
   "metadata": {},
   "outputs": [
    {
     "data": {
      "text/html": [
       "<div>\n",
       "<style scoped>\n",
       "    .dataframe tbody tr th:only-of-type {\n",
       "        vertical-align: middle;\n",
       "    }\n",
       "\n",
       "    .dataframe tbody tr th {\n",
       "        vertical-align: top;\n",
       "    }\n",
       "\n",
       "    .dataframe thead th {\n",
       "        text-align: right;\n",
       "    }\n",
       "</style>\n",
       "<table border=\"1\" class=\"dataframe\">\n",
       "  <thead>\n",
       "    <tr style=\"text-align: right;\">\n",
       "      <th></th>\n",
       "      <th>review</th>\n",
       "      <th>sentiment</th>\n",
       "    </tr>\n",
       "  </thead>\n",
       "  <tbody>\n",
       "    <tr>\n",
       "      <th>0</th>\n",
       "      <td>one of the other reviewers has mentioned that ...</td>\n",
       "      <td>positive</td>\n",
       "    </tr>\n",
       "    <tr>\n",
       "      <th>1</th>\n",
       "      <td>a wonderful little production the filming tech...</td>\n",
       "      <td>positive</td>\n",
       "    </tr>\n",
       "    <tr>\n",
       "      <th>2</th>\n",
       "      <td>i thought this was a wonderful way to spend ti...</td>\n",
       "      <td>positive</td>\n",
       "    </tr>\n",
       "    <tr>\n",
       "      <th>3</th>\n",
       "      <td>basically there s a family where a little boy ...</td>\n",
       "      <td>negative</td>\n",
       "    </tr>\n",
       "    <tr>\n",
       "      <th>4</th>\n",
       "      <td>petter mattei s love in the time of money is a...</td>\n",
       "      <td>positive</td>\n",
       "    </tr>\n",
       "  </tbody>\n",
       "</table>\n",
       "</div>"
      ],
      "text/plain": [
       "                                              review sentiment\n",
       "0  one of the other reviewers has mentioned that ...  positive\n",
       "1  a wonderful little production the filming tech...  positive\n",
       "2  i thought this was a wonderful way to spend ti...  positive\n",
       "3  basically there s a family where a little boy ...  negative\n",
       "4  petter mattei s love in the time of money is a...  positive"
      ]
     },
     "execution_count": 83,
     "metadata": {},
     "output_type": "execute_result"
    }
   ],
   "source": [
    "df.head()"
   ]
  },
  {
   "cell_type": "code",
   "execution_count": 84,
   "id": "943bbec0",
   "metadata": {},
   "outputs": [
    {
     "data": {
      "text/plain": [
       "'one of the other reviewers has mentioned that after watching just oz episode you ll be hooked they are right as this is exactly what happened with me the first thing that struck me about oz was its brutality and unflinching scenes of violence which set in right from the word go trust me this is not a show for the faint hearted or timid this show pulls no punches with regards to drugs sex or violence its is hardcore in the classic use of the word it is called oz as that is the nickname given to the oswald maximum security state penitentary it focuses mainly on emerald city an experimental section of the prison where all the cells have glass fronts and face inwards so privacy is not high on the agenda em city is home to many aryans muslims gangstas latinos christians italians irish and more so scuffles death stares dodgy dealings and shady agreements are never far away i would say the main appeal of the show is due to the fact that it goes where other shows wouldn t dare forget pretty pictures painted for mainstream audiences forget charm forget romance oz doesn t mess around the first episode i ever saw struck me as so nasty it was surreal i couldn t say i was ready for it but as i watched more i developed a taste for oz and got accustomed to the high levels of graphic violence not just violence but injustice crooked guards who ll be sold out for a nickel inmates who ll kill on order and get away with it well mannered middle class inmates being turned into prison bitches due to their lack of street skills or prison experience watching oz you may become comfortable with what is uncomfortable viewing thats if you can get in touch with your darker side'"
      ]
     },
     "execution_count": 84,
     "metadata": {},
     "output_type": "execute_result"
    }
   ],
   "source": [
    "df.iloc[0].review"
   ]
  },
  {
   "cell_type": "code",
   "execution_count": 85,
   "id": "17f62dc7",
   "metadata": {},
   "outputs": [],
   "source": [
    "X = df.review.values\n",
    "y = df.sentiment.values"
   ]
  },
  {
   "cell_type": "code",
   "execution_count": 86,
   "id": "0dfec8cd",
   "metadata": {},
   "outputs": [],
   "source": [
    "from sklearn.model_selection import train_test_split"
   ]
  },
  {
   "cell_type": "code",
   "execution_count": 87,
   "id": "8f63c8fd",
   "metadata": {},
   "outputs": [],
   "source": [
    "xtrain,xtest,ytrain,ytest = train_test_split(X,y,test_size=.2,random_state=12)"
   ]
  },
  {
   "cell_type": "code",
   "execution_count": 88,
   "id": "df0ec312",
   "metadata": {},
   "outputs": [],
   "source": [
    "vect = CountVectorizer()"
   ]
  },
  {
   "cell_type": "code",
   "execution_count": null,
   "id": "fd4f074e",
   "metadata": {},
   "outputs": [],
   "source": [
    "#vect.get_feature_names()"
   ]
  },
  {
   "cell_type": "code",
   "execution_count": null,
   "id": "dba6141c",
   "metadata": {},
   "outputs": [],
   "source": [
    "cv_train = vect.fit_transform(xtrain)  #for training data\n",
    "\n",
    "cv_test = vect.transform(xtest)        #for testing data"
   ]
  },
  {
   "cell_type": "code",
   "execution_count": null,
   "id": "429adc7c",
   "metadata": {},
   "outputs": [],
   "source": [
    "#cv.get_stop_words()"
   ]
  },
  {
   "cell_type": "code",
   "execution_count": 23,
   "id": "779d0f8a",
   "metadata": {},
   "outputs": [
    {
     "ename": "NameError",
     "evalue": "name 'cv_train' is not defined",
     "output_type": "error",
     "traceback": [
      "\u001b[1;31m---------------------------------------------------------------------------\u001b[0m",
      "\u001b[1;31mNameError\u001b[0m                                 Traceback (most recent call last)",
      "\u001b[1;32m~\\AppData\\Local\\Temp/ipykernel_10004/983160096.py\u001b[0m in \u001b[0;36m<module>\u001b[1;34m\u001b[0m\n\u001b[1;32m----> 1\u001b[1;33m \u001b[0mcv_train\u001b[0m\u001b[1;33m.\u001b[0m\u001b[0mshape\u001b[0m\u001b[1;33m\u001b[0m\u001b[1;33m\u001b[0m\u001b[0m\n\u001b[0m",
      "\u001b[1;31mNameError\u001b[0m: name 'cv_train' is not defined"
     ]
    }
   ],
   "source": [
    "cv_train.shape"
   ]
  },
  {
   "cell_type": "code",
   "execution_count": null,
   "id": "973e5108",
   "metadata": {},
   "outputs": [],
   "source": [
    "#len(cv.get_feature_names())"
   ]
  },
  {
   "cell_type": "code",
   "execution_count": 24,
   "id": "911267d6",
   "metadata": {},
   "outputs": [],
   "source": [
    "from sklearn.linear_model import LogisticRegression\n",
    "from sklearn.metrics import accuracy_score"
   ]
  },
  {
   "cell_type": "code",
   "execution_count": 25,
   "id": "1ef5c980",
   "metadata": {},
   "outputs": [],
   "source": [
    "log = LogisticRegression()"
   ]
  },
  {
   "cell_type": "code",
   "execution_count": 26,
   "id": "508f974f",
   "metadata": {},
   "outputs": [
    {
     "ename": "NameError",
     "evalue": "name 'cv_train' is not defined",
     "output_type": "error",
     "traceback": [
      "\u001b[1;31m---------------------------------------------------------------------------\u001b[0m",
      "\u001b[1;31mNameError\u001b[0m                                 Traceback (most recent call last)",
      "\u001b[1;32m~\\AppData\\Local\\Temp/ipykernel_10004/80690358.py\u001b[0m in \u001b[0;36m<module>\u001b[1;34m\u001b[0m\n\u001b[1;32m----> 1\u001b[1;33m \u001b[0mlog\u001b[0m\u001b[1;33m.\u001b[0m\u001b[0mfit\u001b[0m\u001b[1;33m(\u001b[0m\u001b[0mcv_train\u001b[0m\u001b[1;33m,\u001b[0m\u001b[0mytrain\u001b[0m\u001b[1;33m)\u001b[0m\u001b[1;33m\u001b[0m\u001b[1;33m\u001b[0m\u001b[0m\n\u001b[0m\u001b[0;32m      2\u001b[0m \u001b[1;33m\u001b[0m\u001b[0m\n\u001b[0;32m      3\u001b[0m \u001b[0mpred\u001b[0m \u001b[1;33m=\u001b[0m \u001b[0mlog\u001b[0m\u001b[1;33m.\u001b[0m\u001b[0mpredict\u001b[0m\u001b[1;33m(\u001b[0m\u001b[0mcv_test\u001b[0m\u001b[1;33m)\u001b[0m\u001b[1;33m\u001b[0m\u001b[1;33m\u001b[0m\u001b[0m\n\u001b[0;32m      4\u001b[0m \u001b[1;33m\u001b[0m\u001b[0m\n\u001b[0;32m      5\u001b[0m \u001b[0mscore\u001b[0m \u001b[1;33m=\u001b[0m \u001b[0maccuracy_score\u001b[0m\u001b[1;33m(\u001b[0m\u001b[0mytest\u001b[0m\u001b[1;33m,\u001b[0m\u001b[0mpred\u001b[0m\u001b[1;33m)\u001b[0m\u001b[1;33m\u001b[0m\u001b[1;33m\u001b[0m\u001b[0m\n",
      "\u001b[1;31mNameError\u001b[0m: name 'cv_train' is not defined"
     ]
    }
   ],
   "source": [
    "log.fit(cv_train,ytrain)\n",
    "\n",
    "pred = log.predict(cv_test)\n",
    "\n",
    "score = accuracy_score(ytest,pred)\n",
    "score"
   ]
  },
  {
   "cell_type": "code",
   "execution_count": null,
   "id": "39c71557",
   "metadata": {},
   "outputs": [],
   "source": []
  },
  {
   "cell_type": "code",
   "execution_count": null,
   "id": "86d4fde4",
   "metadata": {},
   "outputs": [],
   "source": []
  },
  {
   "cell_type": "code",
   "execution_count": null,
   "id": "61057fb8",
   "metadata": {},
   "outputs": [],
   "source": [
    "x =vect.fit_transform(df['review'])"
   ]
  },
  {
   "cell_type": "code",
   "execution_count": 27,
   "id": "27872a40",
   "metadata": {},
   "outputs": [
    {
     "ename": "NameError",
     "evalue": "name 'x' is not defined",
     "output_type": "error",
     "traceback": [
      "\u001b[1;31m---------------------------------------------------------------------------\u001b[0m",
      "\u001b[1;31mNameError\u001b[0m                                 Traceback (most recent call last)",
      "\u001b[1;32m~\\AppData\\Local\\Temp/ipykernel_10004/32546335.py\u001b[0m in \u001b[0;36m<module>\u001b[1;34m\u001b[0m\n\u001b[1;32m----> 1\u001b[1;33m \u001b[0mx\u001b[0m\u001b[1;33m\u001b[0m\u001b[1;33m\u001b[0m\u001b[0m\n\u001b[0m",
      "\u001b[1;31mNameError\u001b[0m: name 'x' is not defined"
     ]
    }
   ],
   "source": [
    "x"
   ]
  },
  {
   "cell_type": "code",
   "execution_count": null,
   "id": "6574a93b",
   "metadata": {},
   "outputs": [],
   "source": [
    "#vect.get_feature_names()"
   ]
  },
  {
   "cell_type": "code",
   "execution_count": null,
   "id": "8df7061b",
   "metadata": {},
   "outputs": [],
   "source": []
  }
 ],
 "metadata": {
  "kernelspec": {
   "display_name": "Python 3 (ipykernel)",
   "language": "python",
   "name": "python3"
  },
  "language_info": {
   "codemirror_mode": {
    "name": "ipython",
    "version": 3
   },
   "file_extension": ".py",
   "mimetype": "text/x-python",
   "name": "python",
   "nbconvert_exporter": "python",
   "pygments_lexer": "ipython3",
   "version": "3.9.7"
  }
 },
 "nbformat": 4,
 "nbformat_minor": 5
}
